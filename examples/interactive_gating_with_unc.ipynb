{
 "cells": [
  {
   "attachments": {},
   "cell_type": "markdown",
   "metadata": {},
   "source": [
    "# Interactive time-gating"
   ]
  },
  {
   "attachments": {},
   "cell_type": "markdown",
   "metadata": {},
   "source": [
    "## Preliminaries"
   ]
  },
  {
   "attachments": {},
   "cell_type": "markdown",
   "metadata": {},
   "source": [
    "### Imports"
   ]
  },
  {
   "cell_type": "code",
   "execution_count": null,
   "metadata": {},
   "outputs": [],
   "source": [
    "#%matplotlib notebook\n",
    "%matplotlib inline\n",
    "import matplotlib.pyplot as plt\n",
    "from matplotlib import colors\n",
    "from ipywidgets import interact, interactive, IntSlider, IntText, Dropdown, fixed, FloatSlider\n",
    "\n",
    "import numpy as np\n",
    "import pandas\n",
    "from scipy.ndimage import convolve1d\n",
    "from scipy import signal, special\n",
    "\n",
    "from PyDynamic.uncertainty.propagate_DFT import GUM_iDFT, GUM_DFT, DFT2AmpPhase, AmpPhase2DFT\n",
    "from PyDynamic.misc import complex_2_real_imag as c2ri\n",
    "from PyDynamic.misc import real_imag_2_complex as ri2c\n",
    "from PyDynamic.misc.tools import shift_uncertainty, trimOrPad\n",
    "\n",
    "import interactive_gating_with_unc_utils as utils"
   ]
  },
  {
   "attachments": {},
   "cell_type": "markdown",
   "metadata": {},
   "source": [
    "### Compare different available datasets"
   ]
  },
  {
   "cell_type": "code",
   "execution_count": null,
   "metadata": {},
   "outputs": [],
   "source": [
    "# main empirical data (Type A, but only very few samples)\n",
    "f_emp, s11_mag_emp, s11_phase_emp, s11_mag_unc_emp, s11_phase_unc_emp = utils.load_data(\"empirical_cov\", return_mag_phase=True, return_full_cov=False)\n",
    "\n",
    "# mag-phase-diag only (Type B)\n",
    "f_old, s11_mag_old, s11_phase_old, s11_mag_unc_old, s11_phase_unc_old = utils.load_data(\"diag_only\", return_mag_phase=True, return_full_cov=False)\n",
    "\n",
    "# simulated data (no unc)\n",
    "f_sim, s11_mag_sim, s11_phase_sim, s11_mag_unc_sim, s11_phase_unc_sim = utils.load_data(\"simulated\", return_mag_phase=True, return_full_cov=False)"
   ]
  },
  {
   "cell_type": "code",
   "execution_count": null,
   "metadata": {},
   "outputs": [],
   "source": [
    "# visualize raw input in the frequency domain\n",
    "fig_comp_raw, ax_comp_raw = plt.subplots(nrows=4, figsize=(8, 8), tight_layout=True)\n",
    "ax_comp_raw[0].plot(f_emp, s11_mag_emp, label=\"statistical cov.\", color=\"tab:gray\", linewidth=4)\n",
    "ax_comp_raw[0].plot(f_old, s11_mag_old, label=\"diag only (Type B)\", color=\"tab:red\")\n",
    "ax_comp_raw[0].plot(f_sim, s11_mag_sim, label=\"simulated\", color=\"tab:blue\")\n",
    "\n",
    "ax_comp_raw[1].semilogy(f_emp, s11_mag_unc_emp, label=\"statistical cov.\", color=\"tab:gray\", linewidth=4)\n",
    "ax_comp_raw[1].semilogy(f_old, s11_mag_unc_old, label=\"diag only (Type B)\", color=\"tab:red\")\n",
    "\n",
    "ax_comp_raw[2].plot(f_emp, np.rad2deg(s11_phase_emp), label=\"statistical cov.\", color=\"tab:gray\", linewidth=4)\n",
    "ax_comp_raw[2].plot(f_old, np.rad2deg(s11_phase_old), label=\"diag only (Type B)\", color=\"tab:red\")\n",
    "ax_comp_raw[2].plot(f_sim, np.rad2deg(s11_phase_sim), label=\"diag only (Type B)\", color=\"tab:blue\")\n",
    "\n",
    "ax_comp_raw[3].semilogy(f_emp, np.rad2deg(s11_phase_unc_emp), label=\"statistical cov.\", color=\"tab:gray\", linewidth=4)\n",
    "ax_comp_raw[3].semilogy(f_old, np.rad2deg(s11_phase_unc_old), label=\"diag only (Type B)\", color=\"tab:red\")\n",
    "\n",
    "ax_comp_raw[0].legend()\n",
    "ax_comp_raw[0].set_title(\"Frequency Domain\")\n",
    "ax_comp_raw[0].set_ylabel(\"magnitude [-]\")\n",
    "ax_comp_raw[1].set_ylabel(\"magnitude unc [-]\")\n",
    "ax_comp_raw[2].set_ylabel(\"phase [°]\")\n",
    "ax_comp_raw[3].set_ylabel(\"phase unc [°]\")\n",
    "ax_comp_raw[3].set_xlabel(\"f [GHz]\")"
   ]
  },
  {
   "cell_type": "markdown",
   "metadata": {},
   "source": [
    "## Preprocessing"
   ]
  },
  {
   "attachments": {},
   "cell_type": "markdown",
   "metadata": {},
   "source": [
    "### Data Loading"
   ]
  },
  {
   "cell_type": "code",
   "execution_count": null,
   "metadata": {},
   "outputs": [],
   "source": [
    "# data to be used for further processing:\n",
    "f, s11_ri, s11_ri_cov = utils.load_data(\"empirical_cov\")\n",
    "s11_mag, s11_phase, s11_mag_unc, s11_phase_unc = utils.convert_ri_cov_to_mag_phase_unc(s11_ri, s11_ri_cov)"
   ]
  },
  {
   "cell_type": "markdown",
   "metadata": {},
   "source": [
    "### Apply Window in the Frequency Domain\n",
    "\n",
    "This can be used to avoid effects of \"hard edges\" in the Fourier transform."
   ]
  },
  {
   "cell_type": "code",
   "execution_count": null,
   "metadata": {},
   "outputs": [],
   "source": [
    "# overall window shape\n",
    "# window = signal.windows.get_window((\"kaiser\", 0.5 * np.pi), Nx=len(f), fftbins=False)\n",
    "# \"no window\": \n",
    "window = np.ones(len(f))\n",
    "\n",
    "# normalize so that integral of window is same as uniform window and therefore should preserve power of signal\n",
    "window *= window.size / np.sum(window)\n",
    "\n",
    "# window has zero uncertainty for now, but full covariance would be supported\n",
    "window_cov = np.zeros((len(window), len(window)))\n",
    "window_unc = np.sqrt(np.diag(window_cov))\n",
    "\n",
    "# apply window\n",
    "f_mod = f\n",
    "s11_ri_mod, s11_ri_cov_mod = utils.apply_window(s11_ri, window, s11_ri_cov, window_cov)"
   ]
  },
  {
   "cell_type": "markdown",
   "metadata": {},
   "source": [
    "### Zero Padding in the Frequency Domain\n",
    "\n",
    "This can be used to (artificially) increase the resolution in the time domain."
   ]
  },
  {
   "cell_type": "code",
   "execution_count": null,
   "metadata": {},
   "outputs": [],
   "source": [
    "# will be done directly in iDFT + subsequent normalization\n",
    "\n",
    "# pad_len = 1000\n",
    "# df = np.mean(np.diff(f))\n",
    "# f_ext = f[-1] + df * (1 + np.arange(pad_len))\n",
    "# f_mod = np.r_[f, f_ext]\n",
    "# s11_ri_mod = trimOrPad(s11_ri_mod, length=len(f) + pad_len, real_imag_type=True)\n",
    "# s11_ri_cov_mod = trimOrPad(s11_ri_cov_mod, length=len(f) + pad_len, real_imag_type=True)"
   ]
  },
  {
   "cell_type": "code",
   "execution_count": null,
   "metadata": {},
   "outputs": [],
   "source": [
    "s11_mag_mod, s11_phase_mod, s11_mag_unc_mod, s11_phase_unc_mod = utils.convert_ri_cov_to_mag_phase_unc(s11_ri_mod, s11_ri_cov_mod)\n",
    "\n",
    "s11_phase_mod = np.nan_to_num(s11_phase_mod)\n",
    "s11_mag_unc_mod = np.nan_to_num(s11_mag_unc_mod)\n",
    "s11_phase_unc_mod = np.nan_to_num(s11_phase_unc_mod)"
   ]
  },
  {
   "attachments": {},
   "cell_type": "markdown",
   "metadata": {},
   "source": [
    "#### Visualize Input Data as Mag/Phase in the Frequency Domain"
   ]
  },
  {
   "cell_type": "code",
   "execution_count": null,
   "metadata": {
    "scrolled": false
   },
   "outputs": [],
   "source": [
    "# visualize raw input\n",
    "fig_in, ax_in = plt.subplots(nrows=4, figsize=(8, 8), tight_layout=True, sharex=True)\n",
    "\n",
    "# plot\n",
    "ax_in[0].plot(f_mod, s11_mag_mod, label=\"s11 windowed\", color=\"tab:blue\", linewidth=3)\n",
    "ax_in[0].plot(f, s11_mag, label=\"s11\", color=\"tab:gray\")\n",
    "ax_in[0].plot(f, window, label=\"window\", color=\"tab:red\")\n",
    "\n",
    "ax_in[1].plot(f_mod, s11_mag_unc_mod, label=\"s11 windowed\", color=\"tab:blue\", linewidth=3)\n",
    "ax_in[1].plot(f, s11_mag_unc, label=\"s11\", color=\"tab:gray\")\n",
    "\n",
    "ax_in[2].plot(f_mod, np.rad2deg(s11_phase_mod), label=\"s11 windowed\", color=\"tab:blue\", linewidth=3)\n",
    "ax_in[2].plot(f, np.rad2deg(s11_phase), label=\"s11\", color=\"tab:gray\")\n",
    "\n",
    "ax_in[3].plot(f_mod, np.rad2deg(s11_phase_unc_mod), label=\"s11 windowed\", color=\"tab:blue\", linewidth=3)\n",
    "ax_in[3].plot(f, np.rad2deg(s11_phase_unc), label=\"s11\", color=\"tab:gray\")\n",
    "\n",
    "ax_in[0].legend()\n",
    "ax_in[0].set_title(\"Frequency Domain\")\n",
    "ax_in[0].set_ylabel(\"magnitude [-]\")\n",
    "ax_in[1].set_ylabel(\"magnitude unc [-]\")\n",
    "ax_in[2].set_ylabel(\"phase [°]\")\n",
    "ax_in[3].set_ylabel(\"phase unc [°]\")\n",
    "ax_in[3].set_xlabel(\"f [GHz]\")"
   ]
  },
  {
   "attachments": {},
   "cell_type": "markdown",
   "metadata": {},
   "source": [
    "### Transformation into Time Domain (Application of Inverse DFT)"
   ]
  },
  {
   "cell_type": "markdown",
   "metadata": {},
   "source": [
    "#### raw spectral data"
   ]
  },
  {
   "cell_type": "code",
   "execution_count": null,
   "metadata": {},
   "outputs": [],
   "source": [
    "# convert unmodified reflection data to time domain\n",
    "Nx = 2*len(s11_mag) - 1\n",
    "S11, S11_cov = GUM_iDFT(s11_ri, s11_ri_cov, Nx=Nx)\n",
    "\n",
    "# shift time signal\n",
    "S11_shifted, S11_cov_shifted = shift_uncertainty(S11, S11_cov, shift=Nx//2)\n",
    "\n",
    "# provide timestamps\n",
    "# corresponds to:\n",
    "#dt = 1 / (2*np.max(f_mod))   # frequency span is [-f_max , f_max]\n",
    "t_span = 1 / np.mean(np.diff(f))  # original f, not f_mod\n",
    "t = np.linspace(0, t_span, num=Nx)\n",
    "t_shifted = t - t_span/2"
   ]
  },
  {
   "cell_type": "markdown",
   "metadata": {},
   "source": [
    "#### modified (window + pad) spectral data"
   ]
  },
  {
   "cell_type": "code",
   "execution_count": null,
   "metadata": {
    "scrolled": false
   },
   "outputs": [],
   "source": [
    "# pad signal to increase time resolution\n",
    "pad_len = 2500\n",
    "\n",
    "# convert modified reflection data to time domain \n",
    "Nx_mod = Nx + pad_len\n",
    "S11_mod, S11_cov_mod = GUM_iDFT(s11_ri_mod, s11_ri_cov_mod, Nx=Nx_mod)\n",
    "\n",
    "# compensate the padding\n",
    "S11_mod *= Nx_mod / Nx\n",
    "S11_cov_mod *= Nx_mod / Nx\n",
    "\n",
    "# shift time signal\n",
    "S11_shifted_mod, S11_cov_shifted_mod = shift_uncertainty(S11_mod, S11_cov_mod, shift=Nx_mod//2)\n",
    "\n",
    "# provide timestamps of modified data\n",
    "t_mod = np.arange(0, Nx_mod) * (t[1] - t[0]) * Nx / float(Nx_mod) + t[0]  # from scipy resample\n",
    "if len(t_mod) % 2 == 0:\n",
    "    t_shifted_mod = t_mod - np.mean(t_mod[t_mod.size//2 - 1 : t_mod.size//2 + 1])\n",
    "else:\n",
    "    t_shifted_mod = t_mod - t_mod[t_mod.size//2]"
   ]
  },
  {
   "cell_type": "markdown",
   "metadata": {},
   "source": [
    "#### visualize"
   ]
  },
  {
   "cell_type": "code",
   "execution_count": null,
   "metadata": {},
   "outputs": [],
   "source": [
    "# visualize time domain data\n",
    "fig_in_td, ax_in_td = plt.subplots(nrows=2, figsize=(8, 6), tight_layout=True, sharex=True)\n",
    "\n",
    "ax_in_td[0].get_shared_x_axes().join(ax_in_td[0], ax_in_td[1])\n",
    "ax_in_td[0].plot(t_shifted, np.abs(S11_shifted), label=\"S11\", color=\"tab:green\")\n",
    "ax_in_td[0].plot(t_shifted_mod, np.abs(S11_shifted_mod), label=\"S11 mod\", color=\"tab:gray\")\n",
    "\n",
    "ax_in_td[1].semilogy(t_shifted, np.sqrt(np.diag(S11_cov_shifted)), label=\"S11 unc\", color=\"tab:green\")\n",
    "ax_in_td[1].semilogy(t_shifted_mod, np.sqrt(np.diag(S11_cov_shifted_mod)), label=\"S11 mod unc\", color=\"tab:gray\")\n",
    "\n",
    "ax_in_td[0].legend()\n",
    "ax_in_td[0].set_title(\"Time Domain\")\n",
    "ax_in_td[0].set_ylabel(\"signal magnitude [-]\")\n",
    "ax_in_td[1].set_ylabel(\"signal unc [-]\")\n",
    "ax_in_td[1].set_xlabel(\"t [ns]\")"
   ]
  },
  {
   "cell_type": "code",
   "execution_count": null,
   "metadata": {},
   "outputs": [],
   "source": [
    "# visualize time domain data\n",
    "fig_in_td_zoom, ax_in_td_zoom = plt.subplots(nrows=2, figsize=(8, 6), tight_layout=True, sharex=True)\n",
    "\n",
    "ax_in_td_zoom[0].get_shared_x_axes().join(ax_in_td[0], ax_in_td[1])\n",
    "#ax_in_td_zoom[0].plot(t_shifted, np.abs(S11_shifted), label=\"S11\", color=\"tab:green\")\n",
    "ax_in_td_zoom[0].plot(t_shifted_mod, np.abs(S11_shifted_mod), label=\"S11 mod\", color=\"tab:gray\")\n",
    "\n",
    "#ax_in_td_zoom[1].plot(t_shifted, np.sqrt(np.diag(S11_cov_shifted)), label=\"S11 unc\", color=\"tab:green\")\n",
    "ax_in_td_zoom[1].plot(t_shifted_mod, np.sqrt(np.diag(S11_cov_shifted_mod)), label=\"S11 mod unc\", color=\"tab:gray\")\n",
    "\n",
    "ax_in_td_zoom[0].set_xlim((-0.1,0.65))\n",
    "\n",
    "ax_in_td_zoom[0].legend()\n",
    "ax_in_td_zoom[0].set_title(\"Time Domain\")\n",
    "ax_in_td_zoom[0].set_ylabel(\"signal magnitude [-]\")\n",
    "ax_in_td_zoom[1].set_ylabel(\"signal unc [-]\")\n",
    "ax_in_td_zoom[1].set_xlabel(\"t [ns]\")"
   ]
  },
  {
   "cell_type": "code",
   "execution_count": null,
   "metadata": {},
   "outputs": [],
   "source": [
    "if False:\n",
    "    array_export = np.c_[t_shifted_mod, S11_shifted_mod, np.sqrt(np.diag(S11_cov_shifted_mod))]\n",
    "    df_export = pandas.DataFrame(array_export)\n",
    "    df_export.columns = [\"time\", \"signal\", \"signal_unc\"]\n",
    "    df_export.to_excel(\"export.xlsx\")"
   ]
  },
  {
   "cell_type": "code",
   "execution_count": null,
   "metadata": {},
   "outputs": [],
   "source": [
    "# visualize time domain data\n",
    "fig_in_td_cov, ax_in_td_cov = plt.subplots(nrows=1, figsize=(6, 6), tight_layout=True)\n",
    "maxi = np.max(np.abs(S11_cov))\n",
    "cnorm = colors.SymLogNorm(vmin=-maxi, vmax=maxi, linthresh=1e-14)\n",
    "\n",
    "img0 = ax_in_td_cov.imshow(S11_cov_shifted_mod,  cmap=\"PuOr\", norm=cnorm)\n",
    "\n",
    "fig_in_td_cov.colorbar(img0, ax=ax_in_td_cov)\n",
    "ax_in_td_cov.set_title(\"Covariance of (modified) time signal\")"
   ]
  },
  {
   "attachments": {},
   "cell_type": "markdown",
   "metadata": {},
   "source": [
    "#### Check that Chaining iDFT + DFT Results in the Original Data\n",
    "\n",
    "This shows that the low uncertainties in the time domain are just a consequence of \n",
    "the (inverse) Fourier transformation. "
   ]
  },
  {
   "cell_type": "code",
   "execution_count": null,
   "metadata": {},
   "outputs": [],
   "source": [
    "s11_ri_idtest, s11_ri_cov_idtest = GUM_DFT(S11, S11_cov)\n",
    "\n",
    "print(\"(Numerical) identity is achieved for the real-imag-representation:\")\n",
    "print(\"real/imag representation identity: \", np.allclose(s11_ri_idtest, s11_ri))\n",
    "print(\"Covariance identity:               \", np.allclose(s11_ri_cov_idtest, s11_ri_cov))\n",
    "\n",
    "\n",
    "s11_mag_idtest, s11_phase_idtest, s11_UAP_idtest = DFT2AmpPhase(s11_ri_idtest, s11_ri_cov_idtest, tol=1e-15)\n",
    "s11_mag_unc_idtest = np.sqrt(np.diag(s11_UAP_idtest)[:len(s11_mag_idtest)])\n",
    "s11_phase_unc_idtest = np.sqrt(np.diag(s11_UAP_idtest)[len(s11_mag_idtest):])\n",
    "\n",
    "print(\"\\n\\n(Numerical) identity is achieved for the mag-phase-representation: (except some elements with a mag/phase ratio close to zero)\")\n",
    "print(\"magnitude identity:     \", np.allclose(s11_mag_idtest, s11_mag))\n",
    "print(\"magnitude unc identity: \", np.allclose(s11_mag_unc_idtest, s11_mag_unc))\n",
    "print(\"phase identity:         \", np.allclose(s11_phase_idtest, s11_phase))\n",
    "print(\"phase unc identity:     \", np.allclose(s11_phase_unc_idtest, s11_phase_unc))"
   ]
  },
  {
   "attachments": {},
   "cell_type": "markdown",
   "metadata": {},
   "source": [
    "## Define the Time-Gate"
   ]
  },
  {
   "cell_type": "code",
   "execution_count": null,
   "metadata": {},
   "outputs": [],
   "source": [
    "gate_array_shifted_mod, gate_unc_array_shifted_mod = utils.gate(t_shifted_mod, t_start=0.0, t_end=0.18, kind=\"kaiser\", order=2.5*np.pi)\n",
    "gate_cov_array_shifted_mod = np.diag(np.square(gate_unc_array_shifted_mod))\n",
    "\n",
    "# \"unshift\" for later calculations\n",
    "gate_array_mod, gate_cov_array_mod = shift_uncertainty(gate_array_shifted_mod, gate_cov_array_shifted_mod, shift=-(Nx_mod-1)//2)"
   ]
  },
  {
   "cell_type": "code",
   "execution_count": null,
   "metadata": {},
   "outputs": [],
   "source": [
    "fig_gate, ax_gate = plt.subplots(nrows=2, figsize=(8, 8), tight_layout=True, sharex=True)\n",
    "\n",
    "# setup secondary y-axis\n",
    "ax2_gate = [None, None]\n",
    "ax2_gate[0] = ax_gate[0].twinx()\n",
    "ax2_gate[1] = ax_gate[1].twinx()\n",
    "\n",
    "# plot signal and gate\n",
    "ax_gate[0].plot(t_shifted_mod, np.abs(S11_shifted_mod), label=\"S11 mod\", color=\"tab:gray\")\n",
    "ax2_gate[0].plot(t_shifted_mod, gate_array_shifted_mod, label=\"gate\", color=\"r\")\n",
    "\n",
    "# plot uncertainty of signal and gate\n",
    "ax_gate[1].plot(t_shifted_mod, np.sqrt(np.diag(S11_cov_shifted_mod)), label=\"S11 mod unc\", color=\"tab:gray\")\n",
    "ax2_gate[1].plot(t_shifted_mod, gate_unc_array_shifted_mod, label=\"gate unc\", color=\"r\")\n",
    "\n",
    "# decorate\n",
    "ax_gate[0].set_title(\"Time Domain (zoomed)\")\n",
    "ax_gate[0].legend(loc=\"upper right\")\n",
    "ax2_gate[0].legend(loc=\"upper center\")\n",
    "ax_gate[0].set_xlim((-0.1,1.5))\n",
    "ax2_gate[1].set_ylim(ax_gate[1].get_ylim())\n",
    "\n",
    "ax_gate[0].set_ylabel(\"signal magnitude [-]\")\n",
    "ax2_gate[0].set_ylabel(\"gate [-]\")\n",
    "ax_gate[1].set_ylabel(\"signal unc [-]\")\n",
    "ax2_gate[1].set_ylabel(\"gate unc [-]\")\n",
    "ax_gate[1].set_xlabel(\"t [ns]\")\n",
    "\n",
    "ax_gate[0].yaxis.get_label().set_color(\"tab:gray\")\n",
    "ax2_gate[0].yaxis.get_label().set_color(\"r\")\n",
    "ax_gate[1].yaxis.get_label().set_color(\"tab:gray\")\n",
    "ax2_gate[1].yaxis.get_label().set_color(\"r\")"
   ]
  },
  {
   "attachments": {},
   "cell_type": "markdown",
   "metadata": {},
   "source": [
    "## Apply the Time-Gate to the modified Signal"
   ]
  },
  {
   "attachments": {},
   "cell_type": "markdown",
   "metadata": {},
   "source": [
    "### Method 1 (multiplication and then DFT)\n",
    "Applies the gate already in the time-domain and converts the result back to frequency domain. "
   ]
  },
  {
   "cell_type": "code",
   "execution_count": null,
   "metadata": {},
   "outputs": [],
   "source": [
    "# main calls\n",
    "S11_gated_mod = S11_mod * gate_array_mod\n",
    "S11_gated_cov_mod = np.diag(gate_array_mod) @ S11_cov_mod @ np.diag(gate_array_mod).T + np.diag(S11_mod) @ gate_cov_array_mod @ np.diag(S11_mod).T\n",
    "s11_gated_ri_mod, s11_gated_ri_cov_mod = GUM_DFT(S11_gated_mod, S11_gated_cov_mod)"
   ]
  },
  {
   "cell_type": "code",
   "execution_count": null,
   "metadata": {},
   "outputs": [],
   "source": [
    "# undo zero-padding\n",
    "s11_gated_ri = trimOrPad(s11_gated_ri_mod, length=len(f), real_imag_type=True) * Nx / Nx_mod\n",
    "s11_gated_ri_cov = trimOrPad(s11_gated_ri_cov_mod, length=len(f), real_imag_type=True) * Nx / Nx_mod\n",
    "\n",
    "# undo windowing\n",
    "s11_gated_ri, s11_gated_ri_cov = utils.apply_window(s11_gated_ri, 1.0 / window, s11_gated_ri_cov, None)"
   ]
  },
  {
   "attachments": {},
   "cell_type": "markdown",
   "metadata": {},
   "source": [
    "#### Visualize Time Gated s11-Parameter"
   ]
  },
  {
   "cell_type": "code",
   "execution_count": null,
   "metadata": {},
   "outputs": [],
   "source": [
    "# visualize result amp/phase\n",
    "NN=len(s11_gated_ri)//2\n",
    "\n",
    "# convert back to amplitude/phase representation\n",
    "s11_gated_A, s11_gated_P, s11_gated_UAP = DFT2AmpPhase(s11_gated_ri, s11_gated_ri_cov)\n",
    "s11_gated_UA = np.sqrt(np.diag(s11_gated_UAP)[:NN])\n",
    "s11_gated_UP = np.sqrt(np.diag(s11_gated_UAP)[NN:])\n",
    "\n",
    "fig_in, ax_in = plt.subplots(nrows=4, figsize=(8, 8), tight_layout=True)\n",
    "ax_in[0].plot(f, s11_gated_A, label=\"s11 gated\", color=\"tab:blue\")\n",
    "ax_in[1].plot(f, s11_gated_UA, label=\"s11 gated\", color=\"tab:blue\")\n",
    "ax_in[2].plot(f, np.rad2deg(s11_gated_P), label=\"s11 gated\", color=\"tab:blue\")\n",
    "ax_in[3].plot(f, np.rad2deg(s11_gated_UP), label=\"s11 gated\", color=\"tab:blue\")\n",
    "\n",
    "ax_in[0].legend()\n",
    "ax_in[0].grid(which=\"both\", axis=\"both\")\n",
    "ax_in[0].set_title(\"Frequency Domain\")\n",
    "ax_in[0].set_ylabel(\"magnitude [-]\")\n",
    "ax_in[1].set_ylabel(\"magnitude unc [-]\")\n",
    "ax_in[2].set_ylabel(\"phase [°]\")\n",
    "ax_in[3].set_ylabel(\"phase unc [°]\")\n",
    "ax_in[3].set_xlabel(\"f [GHz]\")\n"
   ]
  },
  {
   "attachments": {},
   "cell_type": "markdown",
   "metadata": {},
   "source": [
    "### Method 2 (DFT and then complex convolution)\n",
    "\n",
    "Transforms gate into frequency domain and applies gate to the original (frequency domain) signal by using convolution operation. Output should match first method up to numerical precision. (Done with uncertainty evaluation by Monte Carlo, analytical uncertainty evaluation out of scope for now.)"
   ]
  },
  {
   "cell_type": "code",
   "execution_count": null,
   "metadata": {},
   "outputs": [],
   "source": [
    "def make_twosided(x):\n",
    "    # returns the twosided spectrum with f=0 at the start (default numpy style)\n",
    "    # x = x_re + 1j * x_im \n",
    "    x_twosided = np.r_[x, np.conjugate(x[1:][::-1])]  # odd signal length\n",
    "    #x_twosided = np.r_[x, np.conjugate(x[::-1])]  # even signal length (default assumption for rfft)\n",
    "    return x_twosided\n",
    "\n",
    "def make_onesided(x):\n",
    "    # returns the twosided spectrum with f=0 at the start (default numpy style)\n",
    "    # x = x_re + 1j * x_im, (size = 2*N - 1)\n",
    "    N = (x.size + 1) // 2   # odd signal length\n",
    "    #N = x.size // 2   # even signal length\n",
    "    x_onesided = x[:N]\n",
    "    return x_onesided\n",
    "\n",
    "def complex_convolution_of_two_half_spectra(X, Y):\n",
    "    # complex valued X, Y\n",
    "\n",
    "    # transform into full spectra\n",
    "    XX = make_twosided(X)\n",
    "    YY = make_twosided(Y)\n",
    "\n",
    "    # otherwise not strict ascending order (numpy default has f=0 at index 0, not in the middle)\n",
    "    XX = np.fft.fftshift(XX) \n",
    "    YY = np.fft.fftshift(YY)\n",
    "\n",
    "    # actual convolution\n",
    "    RR = convolve1d(XX, YY, mode=\"wrap\") / XX.size\n",
    "\n",
    "    # undo shifting and make half spectrum\n",
    "    R = make_onesided(np.fft.ifftshift(RR))\n",
    "\n",
    "    return R"
   ]
  },
  {
   "cell_type": "code",
   "execution_count": null,
   "metadata": {},
   "outputs": [],
   "source": [
    "# main calls\n",
    "#gate_spectrum = np.fft.rfft(gate_array)\n",
    "#s11_gated_conv = complex_convolution_of_two_half_spectra(ri2c(s11_ri), gate_spectrum)\n",
    "\n",
    "# Monte Carlo of this main call\n",
    "\n",
    "# draw gate and signal\n",
    "def draw_samples(size, x1, x1_cov, x2, x2_cov):\n",
    "    SAMPLES_X1 = np.random.multivariate_normal(x1, x1_cov, size)\n",
    "    SAMPLES_X2 = np.random.multivariate_normal(x2, x2_cov, size)\n",
    "    return (SAMPLES_X1, SAMPLES_X2)\n",
    "\n",
    "# evaluate\n",
    "n_runs = 100\n",
    "results = []\n",
    "for s11_ri_mc, gate_array_mc in zip(*draw_samples(size=n_runs, x1=s11_ri_mod, x1_cov=s11_ri_cov_mod, x2=gate_array_mod, x2_cov=gate_cov_array_mod)):\n",
    "\n",
    "    # explicitly zero pad\n",
    "    s11_ri_mc = trimOrPad(s11_ri_mc, length=len(f) + pad_len//2, real_imag_type=True) * Nx_mod / Nx\n",
    "\n",
    "    # main call\n",
    "    gate_spectrum_tmp = np.fft.rfft(gate_array_mc)\n",
    "    s11_gated_conv_tmp = complex_convolution_of_two_half_spectra(ri2c(s11_ri_mc), gate_spectrum_tmp)\n",
    "\n",
    "    # undo zero-padding\n",
    "    s11_gated_conv_tmp = trimOrPad(s11_gated_conv_tmp, length=len(f), real_imag_type=False) * Nx / Nx_mod\n",
    "\n",
    "    # undo windowing\n",
    "    s11_gated_conv_tmp = s11_gated_conv_tmp / window\n",
    "    \n",
    "    # save result\n",
    "    results.append(c2ri(s11_gated_conv_tmp))\n",
    "\n",
    "# extract mean and covariance\n",
    "s11_gated_mcconv_ri = np.mean(results, axis=0)\n",
    "s11_gated_mcconv_ri_cov = np.cov(results, rowvar=False)\n",
    "s11_gated_mcconv = ri2c(s11_gated_mcconv_ri)"
   ]
  },
  {
   "attachments": {},
   "cell_type": "markdown",
   "metadata": {},
   "source": [
    "#### Visualize Time Gated s11-Parameter"
   ]
  },
  {
   "cell_type": "code",
   "execution_count": null,
   "metadata": {},
   "outputs": [],
   "source": [
    "# visualize result amp/phase\n",
    "NN=len(s11_gated_mcconv_ri)//2\n",
    "\n",
    "# convert back to amplitude/phase representation\n",
    "s11_gated_mcconv_A, s11_gated_mcconv_P, s11_gated_mcconv_UAP = DFT2AmpPhase(s11_gated_mcconv_ri, s11_gated_mcconv_ri_cov)\n",
    "s11_gated_mcconv_UA = np.sqrt(np.diag(s11_gated_mcconv_UAP)[:NN])\n",
    "s11_gated_mcconv_UP = np.sqrt(np.diag(s11_gated_mcconv_UAP)[NN:])\n",
    "\n",
    "fig_in, ax_in = plt.subplots(nrows=4, figsize=(8, 8), tight_layout=True)\n",
    "ax_in[0].plot(f, s11_gated_mcconv_A, label=\"s11 gated\", color=\"tab:orange\")\n",
    "ax_in[1].plot(f, s11_gated_mcconv_UA, label=\"s11 gated\", color=\"tab:orange\")\n",
    "ax_in[2].plot(f, np.rad2deg(s11_gated_mcconv_P), label=\"s11 gated\", color=\"tab:orange\")\n",
    "ax_in[3].plot(f, np.rad2deg(s11_gated_mcconv_UP), label=\"s11 gated\", color=\"tab:orange\")\n",
    "\n",
    "ax_in[0].legend()\n",
    "ax_in[0].grid(which=\"both\", axis=\"both\")\n",
    "ax_in[0].set_title(\"Frequency Domain\")\n",
    "ax_in[0].set_ylabel(\"magnitude [-]\")\n",
    "ax_in[1].set_ylabel(\"magnitude unc [-]\")\n",
    "ax_in[2].set_ylabel(\"phase [°]\")\n",
    "ax_in[3].set_ylabel(\"phase unc [°]\")\n",
    "ax_in[3].set_xlabel(\"f [GHz]\")"
   ]
  },
  {
   "attachments": {},
   "cell_type": "markdown",
   "metadata": {},
   "source": [
    "## Comparison"
   ]
  },
  {
   "attachments": {},
   "cell_type": "markdown",
   "metadata": {},
   "source": [
    "### Original and Time-Gated Spectra of both methods"
   ]
  },
  {
   "cell_type": "code",
   "execution_count": null,
   "metadata": {},
   "outputs": [],
   "source": [
    "fig_in, ax_in = plt.subplots(nrows=4, figsize=(8, 10), tight_layout=True)\n",
    "\n",
    "ax_in[0].plot(f, s11_mag, label=\"s11 orig\", color=\"tab:gray\")\n",
    "ax_in[0].plot(f, s11_gated_A, label=\"s11 gated\", color=\"tab:blue\", linewidth=5)\n",
    "ax_in[0].plot(f, np.abs(s11_gated_mcconv), label=\"s11 gated (MC conv)\", color=\"tab:orange\")\n",
    "\n",
    "ax_in[1].plot(f, s11_mag_unc, label=\"s11 orig unc\", color=\"tab:gray\")\n",
    "ax_in[1].plot(f, s11_gated_UA, label=\"s11 gated\", color=\"tab:blue\", linewidth=5)\n",
    "ax_in[1].plot(f, s11_gated_mcconv_UA, label=\"s11 gated (MC conv)\", color=\"tab:orange\")\n",
    "\n",
    "ax_in[2].plot(f, np.rad2deg(s11_phase), label=\"s11 orig\", color=\"tab:gray\")\n",
    "ax_in[2].plot(f, np.rad2deg(s11_gated_P), label=\"s11 gated\", color=\"tab:blue\", linewidth=5)\n",
    "ax_in[2].plot(f, np.rad2deg(np.angle(s11_gated_mcconv)), label=\"s11 gated (MC conv)\", color=\"tab:orange\")\n",
    "\n",
    "ax_in[3].plot(f, np.rad2deg(s11_phase_unc), label=\"s11 orig unc\", color=\"tab:gray\")\n",
    "ax_in[3].plot(f, np.rad2deg(s11_gated_UP), label=\"s11 gated\", color=\"tab:blue\", linewidth=5)\n",
    "ax_in[3].plot(f, np.rad2deg(s11_gated_mcconv_UP), label=\"s11 gated (MC conv)\", color=\"tab:orange\")\n",
    "\n",
    "\n",
    "ax_in[0].legend()\n",
    "ax_in[1].legend()\n",
    "ax_in[2].legend()\n",
    "ax_in[3].legend()\n",
    "ax_in[0].set_title(\"Frequency Domain\")\n",
    "ax_in[0].set_ylabel(\"magnitude [-]\")\n",
    "ax_in[1].set_ylabel(\"magnitude unc [-]\")\n",
    "ax_in[2].set_ylabel(\"phase [°]\")\n",
    "ax_in[3].set_ylabel(\"phase unc [°]\")\n",
    "ax_in[3].set_xlabel(\"f [GHz]\")\n",
    "ax_in[1].set_yscale(\"log\")\n",
    "ax_in[3].set_yscale(\"log\")\n",
    "ax_in[3].set_ylim(1e-3, 1.5e1)"
   ]
  },
  {
   "attachments": {},
   "cell_type": "markdown",
   "metadata": {},
   "source": [
    "### Covariance Matrices\n",
    "\n",
    "Covariances in Re/Im Representation of:\n",
    "\n",
    "- input data\n",
    "- output of method 1 (analytical uncertainty evaluation)\n",
    "- output of method 2 (Monte Carlo uncertainty evaluation)"
   ]
  },
  {
   "cell_type": "code",
   "execution_count": null,
   "metadata": {},
   "outputs": [],
   "source": [
    "# utility function for annotating plots\n",
    "def annotate_real_imag_plot(ax, annotate_x=True, annotate_y=True):\n",
    "    # define new tick positions\n",
    "    labels_re = [0, 10, 20, 30]  # GHz\n",
    "    labels_re = [0, 8, 16, 24]  # GHz\n",
    "    labels_im = labels_re\n",
    "    labels = labels_re + labels_im\n",
    "\n",
    "    # define new labels for these positions\n",
    "    ticks_re = [np.flatnonzero(f == l).item() for l in labels_re]\n",
    "    ticks_im = [f.size + 1 + k for k in ticks_re]\n",
    "    ticks = ticks_re + ticks_im\n",
    "\n",
    "    # define colors for the labels to distinguish real and imag parts\n",
    "    colors_re = [\"k\"] * len(ticks_re)\n",
    "    colors_im = [\"r\"] * len(ticks_im)\n",
    "    tick_colors = colors_re + colors_im\n",
    "\n",
    "    if annotate_x:\n",
    "        # xticks (label, position, color)\n",
    "        ax.set_xticks(ticks=ticks, labels=labels)\n",
    "        for ticklabel, c in zip(ax.get_xticklabels(), tick_colors):\n",
    "            ticklabel.set_color(c)\n",
    "\n",
    "        # axis label\n",
    "        ax.set_xlabel(\"frequency [GHz]\")\n",
    "\n",
    "        # nice brace real part\n",
    "        ax.annotate(\n",
    "            \"real\",\n",
    "            xy=(0.25, -0.01),\n",
    "            xytext=(0.25, -0.10),\n",
    "            fontsize=14,\n",
    "            ha=\"center\",\n",
    "            va=\"bottom\",\n",
    "            xycoords=\"axes fraction\",\n",
    "            color=\"black\",\n",
    "            #arrowprops=dict(arrowstyle=\"-[, widthB=6.0, lengthB=.5\"),\n",
    "        )\n",
    "\n",
    "        # nice brace imag part\n",
    "        ax.annotate(\n",
    "            \"imag\",\n",
    "            xy=(0.75, -0.01),\n",
    "            xytext=(0.75, -0.10),\n",
    "            fontsize=14,\n",
    "            ha=\"center\",\n",
    "            va=\"bottom\",\n",
    "            xycoords=\"axes fraction\",\n",
    "            color=\"red\",\n",
    "            #arrowprops=dict(arrowstyle=\"-[, widthB=6.0, lengthB=.5\"),\n",
    "        )\n",
    "\n",
    "    if annotate_y:\n",
    "        # yticks (label, position, color)\n",
    "        ax.set_yticks(ticks=ticks, labels=labels)\n",
    "        for ticklabel, c in zip(ax.get_yticklabels(), tick_colors):\n",
    "            ticklabel.set_color(c)\n",
    "\n",
    "        # axis label\n",
    "        ax.set_ylabel(\"frequency [GHz]\")\n",
    "\n",
    "        # nice brace real part\n",
    "        ax.annotate(\n",
    "            \"real\",\n",
    "            xy=(-0.01, 0.75),\n",
    "            xytext=(-0.10, 0.75),\n",
    "            fontsize=14,\n",
    "            ha=\"left\",\n",
    "            va=\"center\",\n",
    "            xycoords=\"axes fraction\",\n",
    "            rotation=90,\n",
    "            color=\"black\",\n",
    "            #arrowprops=dict(arrowstyle=\"-[, widthB=6.0, lengthB=.5\"),\n",
    "        )\n",
    "\n",
    "        # nice brace imag part\n",
    "        ax.annotate(\n",
    "            \"imag\",\n",
    "            xy=(-0.01, 0.25),\n",
    "            xytext=(-0.10, 0.25),\n",
    "            fontsize=14,\n",
    "            ha=\"left\",\n",
    "            va=\"center\",\n",
    "            xycoords=\"axes fraction\",\n",
    "            rotation=90,\n",
    "            color=\"red\",\n",
    "            #arrowprops=dict(arrowstyle=\"-[, widthB=6.0, lengthB=.5\"),\n",
    "        )\n",
    "\n",
    "    return ax\n"
   ]
  },
  {
   "cell_type": "code",
   "execution_count": null,
   "metadata": {},
   "outputs": [],
   "source": [
    "fig_cov, ax_cov = plt.subplots(nrows=3, figsize=(8, 25), tight_layout=True)\n",
    "mini = max(1e-11, min(np.abs(s11_ri_cov).min(), np.abs(s11_gated_ri_cov).min()))\n",
    "maxi = min(np.abs(s11_ri_cov).max(), np.abs(s11_gated_ri_cov).max())\n",
    "\n",
    "cnorm = colors.SymLogNorm(vmin=-maxi, vmax=maxi, linthresh=mini)\n",
    "img1 = ax_cov[0].imshow(s11_ri_cov, cmap=\"PuOr\", norm=cnorm)\n",
    "img2 = ax_cov[1].imshow(s11_gated_ri_cov, cmap=\"PuOr\", norm=cnorm)\n",
    "img3 = ax_cov[2].imshow(s11_gated_mcconv_ri_cov, cmap=\"PuOr\", norm=cnorm)\n",
    "fig_cov.colorbar(img1, ax=ax_cov[0])\n",
    "fig_cov.colorbar(img2, ax=ax_cov[1])\n",
    "fig_cov.colorbar(img3, ax=ax_cov[2])\n",
    "\n",
    "ax_cov[0].set_title(\"Covariance of s11_ri\")\n",
    "ax_cov[0] = annotate_real_imag_plot(ax_cov[0])\n",
    "\n",
    "ax_cov[1].set_title(\"Covariance of s11_gated_ri\")\n",
    "ax_cov[1] = annotate_real_imag_plot(ax_cov[1])\n",
    "\n",
    "ax_cov[2].set_title(\"Covariance of s11_gated_mcconv_ri_cov\")\n",
    "ax_cov[2] = annotate_real_imag_plot(ax_cov[2])"
   ]
  },
  {
   "attachments": {},
   "cell_type": "markdown",
   "metadata": {},
   "source": [
    "#### Compare Gated Spectra and Covariance Matrices of analytical and Monte Carlo approach"
   ]
  },
  {
   "cell_type": "code",
   "execution_count": null,
   "metadata": {},
   "outputs": [],
   "source": [
    "# visual comparison of the two methods:\n",
    "fig_comp, ax_comp = plt.subplots(nrows=3, figsize=(8, 20), tight_layout=True)\n",
    "\n",
    "# mean signed difference of values\n",
    "ax_comp[0].plot(s11_gated_ri - s11_gated_mcconv_ri)\n",
    "ax_comp[0].set_title(\"Mean Signed Difference of Gated Spectra\")\n",
    "ax_comp[0] = annotate_real_imag_plot(ax_comp[0], annotate_y=False)\n",
    "\n",
    "# mean signed difference of covariance matrices\n",
    "img4 = ax_comp[1].imshow(s11_gated_ri_cov - s11_gated_mcconv_ri_cov, cmap=\"PuOr\", norm=cnorm)\n",
    "fig_comp.colorbar(img4, ax=ax_comp[1])\n",
    "\n",
    "ax_comp[1].set_title(\"Signed Difference of both Covariance Matrices\")\n",
    "ax_comp[1] = annotate_real_imag_plot(ax_comp[1])\n",
    "\n",
    "# Kullback-Leibler divergence of covariance matrices\n",
    "kl_div = special.kl_div(s11_gated_ri_cov, s11_gated_mcconv_ri_cov)\n",
    "cnorm_kl = colors.LogNorm(vmin=1e-12, vmax=1e-8, clip=True)\n",
    "\n",
    "img5 = ax_comp[2].imshow(kl_div, cmap=\"binary\", norm=cnorm_kl)\n",
    "fig_comp.colorbar(img5, ax=ax_comp[2])\n",
    "\n",
    "\n",
    "ax_comp[2].set_title(\"Kullback-Leibler divergence of both Covariance Matrices\")\n",
    "ax_comp[2] = annotate_real_imag_plot(ax_comp[2])"
   ]
  }
 ],
 "metadata": {
  "kernelspec": {
   "display_name": "Python 3 (ipykernel)",
   "language": "python",
   "name": "python3"
  },
  "language_info": {
   "codemirror_mode": {
    "name": "ipython",
    "version": 3
   },
   "file_extension": ".py",
   "mimetype": "text/x-python",
   "name": "python",
   "nbconvert_exporter": "python",
   "pygments_lexer": "ipython3",
   "version": "3.11.2"
  },
  "vscode": {
   "interpreter": {
    "hash": "2354e242048eb15e141e87006675072499dd67ed80a1dc68b094af9bf5b71536"
   }
  }
 },
 "nbformat": 4,
 "nbformat_minor": 2
}
