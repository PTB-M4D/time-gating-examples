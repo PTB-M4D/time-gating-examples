{
 "cells": [
  {
   "attachments": {},
   "cell_type": "markdown",
   "metadata": {},
   "source": [
    "# Interactive time-gating"
   ]
  },
  {
   "attachments": {},
   "cell_type": "markdown",
   "metadata": {},
   "source": [
    "## Preliminaries"
   ]
  },
  {
   "attachments": {},
   "cell_type": "markdown",
   "metadata": {},
   "source": [
    "### Imports"
   ]
  },
  {
   "cell_type": "code",
   "execution_count": null,
   "metadata": {},
   "outputs": [],
   "source": [
    "%matplotlib inline\n",
    "import numpy as np\n",
    "import copy\n",
    "import interactive_gating_with_unc_utils as utils\n",
    "base = utils.BaseMethods()"
   ]
  },
  {
   "attachments": {},
   "cell_type": "markdown",
   "metadata": {},
   "source": [
    "### Compare different available datasets"
   ]
  },
  {
   "cell_type": "code",
   "execution_count": null,
   "metadata": {},
   "outputs": [],
   "source": [
    "base.compare_different_datasets()"
   ]
  },
  {
   "cell_type": "markdown",
   "metadata": {},
   "source": [
    "## Time Gating"
   ]
  },
  {
   "cell_type": "markdown",
   "metadata": {},
   "source": [
    "### Load Dataset"
   ]
  },
  {
   "cell_type": "code",
   "execution_count": null,
   "metadata": {},
   "outputs": [],
   "source": [
    "# data to be used for further processing\n",
    "data_raw = f, s11_ri, s11_ri_cov = base.load_data(\"empirical_cov\")\n",
    "\n",
    "# get corresponding time\n",
    "Nx = len(s11_ri) - 1\n",
    "t_span = 1 / np.mean(np.diff(f))  # original f, not f_mod\n",
    "t = np.linspace(0, t_span, num=Nx)"
   ]
  },
  {
   "cell_type": "markdown",
   "metadata": {},
   "source": [
    "### Time Gating Process Settings"
   ]
  },
  {
   "cell_type": "code",
   "execution_count": null,
   "metadata": {},
   "outputs": [],
   "source": [
    "# define window and gate\n",
    "w, uw = base.window(size=len(f), kind=\"neutral\")\n",
    "gate = lambda t: base.gate(t, t_start=0.0, t_end=0.18, kind=\"kaiser\", order=2.5*np.pi)\n",
    "\n",
    "# store settings in dicts\n",
    "data = {\"f\": f, \"s_ri\": s11_ri, \"s_ri_cov\": s11_ri_cov}\n",
    "config = {\n",
    "    \"window\": {\"val\": w, \"cov\": uw},\n",
    "    \"zeropad\": {\"pad_len\": 2500, \"Nx\": Nx},\n",
    "    \"gate\": {\"gate_func\": gate, \"time\": t},\n",
    "    \"renormalization\": None,\n",
    "}"
   ]
  },
  {
   "cell_type": "markdown",
   "metadata": {},
   "source": [
    "### Perform the Gating Using Two Different Approaches"
   ]
  },
  {
   "cell_type": "markdown",
   "metadata": {},
   "source": [
    "#### Method 1\n",
    "\n",
    "Direct Evaluation and Elementwise Multiplication in Time-Domain"
   ]
  },
  {
   "cell_type": "code",
   "execution_count": null,
   "metadata": {},
   "outputs": [],
   "source": [
    "result_m1 = base.perform_time_gating_method_1(data, config, return_internal_data=True)"
   ]
  },
  {
   "cell_type": "markdown",
   "metadata": {},
   "source": [
    "#### Method 2\n",
    "\n",
    "Monte Carlo and Complex Convolution in Frequency-Domain"
   ]
  },
  {
   "cell_type": "code",
   "execution_count": null,
   "metadata": {},
   "outputs": [],
   "source": [
    "result_m2 = base.perform_time_gating_method_2(data, config)"
   ]
  },
  {
   "cell_type": "markdown",
   "metadata": {},
   "source": [
    "## Visualiziations"
   ]
  },
  {
   "cell_type": "code",
   "execution_count": null,
   "metadata": {},
   "outputs": [],
   "source": [
    "# settings to obtain raw signal in the time domain\n",
    "config_nomod = copy.deepcopy(config)\n",
    "config_nomod[\"window\"] = None\n",
    "config_nomod[\"zeropad\"] = None\n",
    "result_nomod = base.perform_time_gating_method_1(data, config_nomod, return_internal_data=True)"
   ]
  },
  {
   "cell_type": "markdown",
   "metadata": {},
   "source": [
    "### Compare Results of Different Methods to Original S-Parameter Spectrum"
   ]
  },
  {
   "cell_type": "code",
   "execution_count": null,
   "metadata": {},
   "outputs": [],
   "source": [
    "args_raw = {\"l\": \"original\", \"c\": \"tab:gray\"}\n",
    "args_m1 = {\"l\": \"gated (method 1)\", \"c\": \"tab:blue\", \"lw\": 5}\n",
    "args_m2 = {\"l\": \"gated (method 2)\", \"c\": \"tab:orange\"}\n",
    "\n",
    "plotdata_comparison = [\n",
    "    [data_raw, args_raw],\n",
    "    [tuple(result_m1[\"data\"].values()), args_m1],\n",
    "    [tuple(result_m2[\"data\"].values()), args_m2],\n",
    "]\n",
    "\n",
    "cs_mag_phase = {\n",
    "    3: {\n",
    "        \"ylim\": (1e-3, 1.5e1),\n",
    "    }\n",
    "}"
   ]
  },
  {
   "cell_type": "code",
   "execution_count": null,
   "metadata": {},
   "outputs": [],
   "source": [
    "base.mag_phase_plot(plotdata_comparison, custom_style=cs_mag_phase)"
   ]
  },
  {
   "cell_type": "markdown",
   "metadata": {},
   "source": [
    "### Visualize S-Parameter and Gate in the Time-Domain"
   ]
  },
  {
   "cell_type": "code",
   "execution_count": null,
   "metadata": {},
   "outputs": [],
   "source": [
    "args_raw = {\"l\": \"raw\", \"c\": \"tab:gray\"}\n",
    "args_mod = {\"l\": \"modified\", \"c\": \"tab:green\", \"lw\": 2}\n",
    "args_gate = {\"l\": \"gate\", \"c\": \"red\"}\n",
    "\n",
    "plotdata_timedomain = [\n",
    "    [tuple(result_nomod[\"internal\"][\"modified\"].values()), args_raw],\n",
    "    [tuple(result_m1[\"internal\"][\"modified\"].values()), args_mod],\n",
    "    [tuple(result_m1[\"internal\"][\"gate\"].values()), args_gate],\n",
    "]\n",
    "\n",
    "cs_timedomain = {\n",
    "    0: {\n",
    "        \"xlim\": (-0.1, 0.65),\n",
    "    },\n",
    "    1: {\n",
    "        \"yscale\": \"linear\",\n",
    "    }\n",
    "}"
   ]
  },
  {
   "cell_type": "code",
   "execution_count": null,
   "metadata": {},
   "outputs": [],
   "source": [
    "base.time_domain_plot(plotdata_timedomain[:2], custom_style=None)"
   ]
  },
  {
   "cell_type": "code",
   "execution_count": null,
   "metadata": {},
   "outputs": [],
   "source": [
    "base.time_domain_plot(\n",
    "    plotdata_timedomain, custom_style=cs_timedomain, last_dataset_has_own_axis=True\n",
    ")"
   ]
  },
  {
   "cell_type": "markdown",
   "metadata": {},
   "source": [
    "++++++++++++++++++++++++++++++++++++++++++++++++++++++++++++++++++++++++++++++++++++++++++++++++++++++++++++++++\n",
    "++++++++++++++++++++++++++++++++++++++++++++++++++++++++++++++++++++++++++++++++++++++++++++++++++++++++++++++++\n",
    "++++++++++++++++++++++++++++++++++++++++++++++++++++++++++++++++++++++++++++++++++++++++++++++++++++++++++++++++"
   ]
  },
  {
   "cell_type": "code",
   "execution_count": null,
   "metadata": {},
   "outputs": [],
   "source": [
    "if False:\n",
    "    array_export = np.c_[t_shifted_mod, S11_shifted_mod, np.sqrt(np.diag(S11_cov_shifted_mod))]\n",
    "    df_export = pandas.DataFrame(array_export)\n",
    "    df_export.columns = [\"time\", \"signal\", \"signal_unc\"]\n",
    "    df_export.to_excel(\"export.xlsx\")"
   ]
  },
  {
   "cell_type": "code",
   "execution_count": null,
   "metadata": {},
   "outputs": [],
   "source": [
    "# visualize time domain data\n",
    "fig_in_td_cov, ax_in_td_cov = plt.subplots(nrows=1, figsize=(6, 6), tight_layout=True)\n",
    "maxi = np.max(np.abs(S11_cov))\n",
    "cnorm = colors.SymLogNorm(vmin=-maxi, vmax=maxi, linthresh=1e-14)\n",
    "\n",
    "img0 = ax_in_td_cov.imshow(S11_cov_shifted_mod,  cmap=\"PuOr\", norm=cnorm)\n",
    "\n",
    "fig_in_td_cov.colorbar(img0, ax=ax_in_td_cov)\n",
    "ax_in_td_cov.set_title(\"Covariance of (modified) time signal\")"
   ]
  },
  {
   "attachments": {},
   "cell_type": "markdown",
   "metadata": {},
   "source": [
    "### Covariance Matrices\n",
    "\n",
    "Covariances in Re/Im Representation of:\n",
    "\n",
    "- input data\n",
    "- output of method 1 (analytical uncertainty evaluation)\n",
    "- output of method 2 (Monte Carlo uncertainty evaluation)"
   ]
  },
  {
   "cell_type": "code",
   "execution_count": null,
   "metadata": {},
   "outputs": [],
   "source": [
    "# utility function for annotating plots\n",
    "def annotate_real_imag_plot(ax, annotate_x=True, annotate_y=True):\n",
    "    # define new tick positions\n",
    "    labels_re = [0, 10, 20, 30]  # GHz\n",
    "    labels_re = [0, 8, 16, 24]  # GHz\n",
    "    labels_im = labels_re\n",
    "    labels = labels_re + labels_im\n",
    "\n",
    "    # define new labels for these positions\n",
    "    ticks_re = [np.flatnonzero(f == l).item() for l in labels_re]\n",
    "    ticks_im = [f.size + 1 + k for k in ticks_re]\n",
    "    ticks = ticks_re + ticks_im\n",
    "\n",
    "    # define colors for the labels to distinguish real and imag parts\n",
    "    colors_re = [\"k\"] * len(ticks_re)\n",
    "    colors_im = [\"r\"] * len(ticks_im)\n",
    "    tick_colors = colors_re + colors_im\n",
    "\n",
    "    if annotate_x:\n",
    "        # xticks (label, position, color)\n",
    "        ax.set_xticks(ticks=ticks, labels=labels)\n",
    "        for ticklabel, c in zip(ax.get_xticklabels(), tick_colors):\n",
    "            ticklabel.set_color(c)\n",
    "\n",
    "        # axis label\n",
    "        ax.set_xlabel(\"frequency [GHz]\")\n",
    "\n",
    "        # nice brace real part\n",
    "        ax.annotate(\n",
    "            \"real\",\n",
    "            xy=(0.25, -0.01),\n",
    "            xytext=(0.25, -0.10),\n",
    "            fontsize=14,\n",
    "            ha=\"center\",\n",
    "            va=\"bottom\",\n",
    "            xycoords=\"axes fraction\",\n",
    "            color=\"black\",\n",
    "            #arrowprops=dict(arrowstyle=\"-[, widthB=6.0, lengthB=.5\"),\n",
    "        )\n",
    "\n",
    "        # nice brace imag part\n",
    "        ax.annotate(\n",
    "            \"imag\",\n",
    "            xy=(0.75, -0.01),\n",
    "            xytext=(0.75, -0.10),\n",
    "            fontsize=14,\n",
    "            ha=\"center\",\n",
    "            va=\"bottom\",\n",
    "            xycoords=\"axes fraction\",\n",
    "            color=\"red\",\n",
    "            #arrowprops=dict(arrowstyle=\"-[, widthB=6.0, lengthB=.5\"),\n",
    "        )\n",
    "\n",
    "    if annotate_y:\n",
    "        # yticks (label, position, color)\n",
    "        ax.set_yticks(ticks=ticks, labels=labels)\n",
    "        for ticklabel, c in zip(ax.get_yticklabels(), tick_colors):\n",
    "            ticklabel.set_color(c)\n",
    "\n",
    "        # axis label\n",
    "        ax.set_ylabel(\"frequency [GHz]\")\n",
    "\n",
    "        # nice brace real part\n",
    "        ax.annotate(\n",
    "            \"real\",\n",
    "            xy=(-0.01, 0.75),\n",
    "            xytext=(-0.10, 0.75),\n",
    "            fontsize=14,\n",
    "            ha=\"left\",\n",
    "            va=\"center\",\n",
    "            xycoords=\"axes fraction\",\n",
    "            rotation=90,\n",
    "            color=\"black\",\n",
    "            #arrowprops=dict(arrowstyle=\"-[, widthB=6.0, lengthB=.5\"),\n",
    "        )\n",
    "\n",
    "        # nice brace imag part\n",
    "        ax.annotate(\n",
    "            \"imag\",\n",
    "            xy=(-0.01, 0.25),\n",
    "            xytext=(-0.10, 0.25),\n",
    "            fontsize=14,\n",
    "            ha=\"left\",\n",
    "            va=\"center\",\n",
    "            xycoords=\"axes fraction\",\n",
    "            rotation=90,\n",
    "            color=\"red\",\n",
    "            #arrowprops=dict(arrowstyle=\"-[, widthB=6.0, lengthB=.5\"),\n",
    "        )\n",
    "\n",
    "    return ax\n"
   ]
  },
  {
   "cell_type": "code",
   "execution_count": null,
   "metadata": {},
   "outputs": [],
   "source": [
    "fig_cov, ax_cov = plt.subplots(nrows=3, figsize=(8, 25), tight_layout=True)\n",
    "mini = max(1e-11, min(np.abs(s11_ri_cov).min(), np.abs(s11_gated_ri_cov).min()))\n",
    "maxi = min(np.abs(s11_ri_cov).max(), np.abs(s11_gated_ri_cov).max())\n",
    "\n",
    "cnorm = colors.SymLogNorm(vmin=-maxi, vmax=maxi, linthresh=mini)\n",
    "img1 = ax_cov[0].imshow(s11_ri_cov, cmap=\"PuOr\", norm=cnorm)\n",
    "img2 = ax_cov[1].imshow(s11_gated_ri_cov, cmap=\"PuOr\", norm=cnorm)\n",
    "img3 = ax_cov[2].imshow(s11_gated_mcconv_ri_cov, cmap=\"PuOr\", norm=cnorm)\n",
    "fig_cov.colorbar(img1, ax=ax_cov[0])\n",
    "fig_cov.colorbar(img2, ax=ax_cov[1])\n",
    "fig_cov.colorbar(img3, ax=ax_cov[2])\n",
    "\n",
    "ax_cov[0].set_title(\"Covariance of s11_ri\")\n",
    "ax_cov[0] = annotate_real_imag_plot(ax_cov[0])\n",
    "\n",
    "ax_cov[1].set_title(\"Covariance of s11_gated_ri\")\n",
    "ax_cov[1] = annotate_real_imag_plot(ax_cov[1])\n",
    "\n",
    "ax_cov[2].set_title(\"Covariance of s11_gated_mcconv_ri_cov\")\n",
    "ax_cov[2] = annotate_real_imag_plot(ax_cov[2])"
   ]
  },
  {
   "attachments": {},
   "cell_type": "markdown",
   "metadata": {},
   "source": [
    "#### Compare Gated Spectra and Covariance Matrices of analytical and Monte Carlo approach"
   ]
  },
  {
   "cell_type": "code",
   "execution_count": null,
   "metadata": {},
   "outputs": [],
   "source": [
    "# visual comparison of the two methods:\n",
    "fig_comp, ax_comp = plt.subplots(nrows=3, figsize=(8, 20), tight_layout=True)\n",
    "\n",
    "# mean signed difference of values\n",
    "ax_comp[0].plot(s11_gated_ri - s11_gated_mcconv_ri)\n",
    "ax_comp[0].set_title(\"Mean Signed Difference of Gated Spectra\")\n",
    "ax_comp[0] = annotate_real_imag_plot(ax_comp[0], annotate_y=False)\n",
    "\n",
    "# mean signed difference of covariance matrices\n",
    "img4 = ax_comp[1].imshow(s11_gated_ri_cov - s11_gated_mcconv_ri_cov, cmap=\"PuOr\", norm=cnorm)\n",
    "fig_comp.colorbar(img4, ax=ax_comp[1])\n",
    "\n",
    "ax_comp[1].set_title(\"Signed Difference of both Covariance Matrices\")\n",
    "ax_comp[1] = annotate_real_imag_plot(ax_comp[1])\n",
    "\n",
    "# Kullback-Leibler divergence of covariance matrices\n",
    "kl_div = special.kl_div(s11_gated_ri_cov, s11_gated_mcconv_ri_cov)\n",
    "cnorm_kl = colors.LogNorm(vmin=1e-12, vmax=1e-8, clip=True)\n",
    "\n",
    "img5 = ax_comp[2].imshow(kl_div, cmap=\"binary\", norm=cnorm_kl)\n",
    "fig_comp.colorbar(img5, ax=ax_comp[2])\n",
    "\n",
    "\n",
    "ax_comp[2].set_title(\"Kullback-Leibler divergence of both Covariance Matrices\")\n",
    "ax_comp[2] = annotate_real_imag_plot(ax_comp[2])"
   ]
  }
 ],
 "metadata": {
  "kernelspec": {
   "display_name": "Python 3 (ipykernel)",
   "language": "python",
   "name": "python3"
  },
  "language_info": {
   "codemirror_mode": {
    "name": "ipython",
    "version": 3
   },
   "file_extension": ".py",
   "mimetype": "text/x-python",
   "name": "python",
   "nbconvert_exporter": "python",
   "pygments_lexer": "ipython3",
   "version": "3.11.2"
  },
  "vscode": {
   "interpreter": {
    "hash": "2354e242048eb15e141e87006675072499dd67ed80a1dc68b094af9bf5b71536"
   }
  }
 },
 "nbformat": 4,
 "nbformat_minor": 2
}
