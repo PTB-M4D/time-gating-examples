{
 "cells": [
  {
   "attachments": {},
   "cell_type": "markdown",
   "metadata": {},
   "source": [
    "# Interactive time-gating"
   ]
  },
  {
   "attachments": {},
   "cell_type": "markdown",
   "metadata": {},
   "source": [
    "## Preliminaries"
   ]
  },
  {
   "attachments": {},
   "cell_type": "markdown",
   "metadata": {},
   "source": [
    "### Imports"
   ]
  },
  {
   "cell_type": "code",
   "execution_count": null,
   "metadata": {},
   "outputs": [],
   "source": [
    "#%matplotlib inline\n",
    "import copy\n",
    "import numpy as np\n",
    "\n",
    "import interactive_gating_with_unc_utils as utils\n",
    "base = utils.BaseMethods()"
   ]
  },
  {
   "attachments": {},
   "cell_type": "markdown",
   "metadata": {},
   "source": [
    "### Compare different available datasets"
   ]
  },
  {
   "cell_type": "code",
   "execution_count": null,
   "metadata": {},
   "outputs": [],
   "source": [
    "base.compare_different_datasets()"
   ]
  },
  {
   "cell_type": "markdown",
   "metadata": {},
   "source": [
    "## Time Gating"
   ]
  },
  {
   "cell_type": "markdown",
   "metadata": {},
   "source": [
    "### Load Dataset"
   ]
  },
  {
   "cell_type": "code",
   "execution_count": null,
   "metadata": {},
   "outputs": [],
   "source": [
    "# data to be used for further processing\n",
    "data_raw = f, s11_ri, s11_ri_cov = base.load_data(\"empirical_cov\")\n",
    "\n",
    "# get corresponding time\n",
    "Nx = len(s11_ri) - 1\n",
    "t_span = 1 / np.mean(np.diff(f))  # original f, not f_mod\n",
    "t = np.linspace(0, t_span, num=Nx)"
   ]
  },
  {
   "cell_type": "markdown",
   "metadata": {},
   "source": [
    "### Time Gating Process Settings"
   ]
  },
  {
   "cell_type": "code",
   "execution_count": null,
   "metadata": {},
   "outputs": [],
   "source": [
    "# define window and gate\n",
    "w, uw = base.window(size=len(f), kind=\"neutral\")\n",
    "def gate(t):\n",
    "    return base.gate(t, t_start=0.0, t_end=0.18, kind=\"kaiser\", kind_args={\"order\": 2.5 * np.pi})\n",
    "\n",
    "# store settings in dicts\n",
    "data = {\"f\": f, \"s_ri\": s11_ri, \"s_ri_cov\": s11_ri_cov}\n",
    "config = {\n",
    "    \"window\": {\"val\": w, \"cov\": uw},\n",
    "    \"zeropad\": {\"pad_len\": 2500, \"Nx\": Nx},\n",
    "    \"gate\": {\"gate_func\": gate, \"time\": t},\n",
    "    \"renormalization\": \"unitResponse\",\n",
    "}"
   ]
  },
  {
   "cell_type": "markdown",
   "metadata": {},
   "source": [
    "### Perform the Gating Using Two Different Approaches"
   ]
  },
  {
   "cell_type": "markdown",
   "metadata": {},
   "source": [
    "#### Method 1\n",
    "\n",
    "Direct Evaluation and Elementwise Multiplication in Time-Domain"
   ]
  },
  {
   "cell_type": "code",
   "execution_count": null,
   "metadata": {},
   "outputs": [],
   "source": [
    "result_m1 = base.perform_time_gating_method_1(data, config, return_internal_data=True)"
   ]
  },
  {
   "cell_type": "markdown",
   "metadata": {},
   "source": [
    "#### Method 2\n",
    "\n",
    "Monte Carlo and Complex Convolution in Frequency-Domain"
   ]
  },
  {
   "cell_type": "code",
   "execution_count": null,
   "metadata": {},
   "outputs": [],
   "source": [
    "result_m2 = base.perform_time_gating_method_2(data, config)"
   ]
  },
  {
   "cell_type": "markdown",
   "metadata": {},
   "source": [
    "## Visualiziations"
   ]
  },
  {
   "cell_type": "markdown",
   "metadata": {},
   "source": [
    "### Visualize S-Parameter and Gate in the Time-Domain"
   ]
  },
  {
   "cell_type": "code",
   "execution_count": null,
   "metadata": {},
   "outputs": [],
   "source": [
    "# settings to obtain raw signal in the time domain\n",
    "config_nomod = copy.deepcopy(config)\n",
    "config_nomod[\"window\"] = None\n",
    "config_nomod[\"zeropad\"] = None\n",
    "config_nomod[\"renormalization\"] = None\n",
    "result_nomod = base.perform_time_gating_method_1(data, config_nomod, return_internal_data=True)"
   ]
  },
  {
   "cell_type": "code",
   "execution_count": null,
   "metadata": {},
   "outputs": [],
   "source": [
    "args_raw = {\"l\": \"raw\", \"c\": \"tab:gray\"}\n",
    "args_mod = {\"l\": \"modified\", \"c\": \"tab:green\", \"lw\": 2}\n",
    "args_gate = {\"l\": \"gate\", \"c\": \"red\"}\n",
    "\n",
    "plotdata_timedomain = [\n",
    "    [tuple(result_nomod[\"internal\"][\"modified\"].values()), args_raw],\n",
    "    [tuple(result_m1[\"internal\"][\"modified\"].values()), args_mod],\n",
    "    [tuple(result_m1[\"internal\"][\"gate\"].values()), args_gate],\n",
    "]\n",
    "\n",
    "cs_timedomain = {0: {\"xlim\": (-0.1, 0.65)}, 1: {\"yscale\": \"linear\"}}\n"
   ]
  },
  {
   "cell_type": "code",
   "execution_count": null,
   "metadata": {},
   "outputs": [],
   "source": [
    "base.time_domain_plot(plotdata_timedomain[:2], custom_style=None)"
   ]
  },
  {
   "cell_type": "code",
   "execution_count": null,
   "metadata": {},
   "outputs": [],
   "source": [
    "base.time_domain_plot(\n",
    "    plotdata_timedomain, custom_style=cs_timedomain, last_dataset_has_own_axis=True\n",
    ")"
   ]
  },
  {
   "cell_type": "code",
   "execution_count": null,
   "metadata": {},
   "outputs": [],
   "source": [
    "base.time_domain_covariance_plot(\n",
    "    [plotdata_timedomain[0]],\n",
    "    custom_style={0: {\"title\": \"Covariance of raw time signal\"}},\n",
    ")"
   ]
  },
  {
   "cell_type": "code",
   "execution_count": null,
   "metadata": {},
   "outputs": [],
   "source": [
    "base.time_domain_covariance_plot(\n",
    "    [plotdata_timedomain[1]],\n",
    "    custom_style={0: {\"title\": \"Covariance of modified time signal\"}},\n",
    ")"
   ]
  },
  {
   "cell_type": "code",
   "execution_count": null,
   "metadata": {},
   "outputs": [],
   "source": [
    "if True:\n",
    "    base.export_timedomain_to_excel(plotdata_timedomain)"
   ]
  },
  {
   "cell_type": "markdown",
   "metadata": {},
   "source": [
    "### Visualize Results of Different Methods in Frequency Domain"
   ]
  },
  {
   "cell_type": "code",
   "execution_count": null,
   "metadata": {},
   "outputs": [],
   "source": [
    "args_raw = {\"l\": \"raw\", \"c\": \"tab:gray\"}\n",
    "args_m1 = {\"l\": \"gated (method 1)\", \"c\": \"tab:blue\", \"lw\": 5}\n",
    "args_m2 = {\"l\": \"gated (method 2)\", \"c\": \"tab:orange\"}\n",
    "\n",
    "plotdata_comparison = [\n",
    "    [data_raw, args_raw],\n",
    "    [tuple(result_m1[\"data\"].values()), args_m1],\n",
    "    [tuple(result_m2[\"data\"].values()), args_m2],\n",
    "]"
   ]
  },
  {
   "cell_type": "code",
   "execution_count": null,
   "metadata": {},
   "outputs": [],
   "source": [
    "base.mag_phase_plot(\n",
    "    plotdata_comparison,\n",
    "    custom_style={3: {\"ylim\": (1e-3, 1.5e1)}},\n",
    ")"
   ]
  },
  {
   "cell_type": "code",
   "execution_count": null,
   "metadata": {},
   "outputs": [],
   "source": [
    "for pdata in plotdata_comparison:\n",
    "    base.real_imag_covariance_plot([pdata])"
   ]
  },
  {
   "cell_type": "markdown",
   "metadata": {},
   "source": [
    "### Compare Covariance Matrices"
   ]
  },
  {
   "cell_type": "code",
   "execution_count": null,
   "metadata": {},
   "outputs": [],
   "source": [
    "U1 = plotdata_comparison[1][0][2]\n",
    "U2 = plotdata_comparison[2][0][2]\n",
    "data_diff_m1_m2 = [data_raw[0], np.zeros_like(data_raw[1]), U2 / U1 - 1]\n",
    "args_diff_m1_m2 = {\"l\": \"comparison (U2 / U1 - 1)\", \"c\": \"tab:orange\"}\n",
    "\n",
    "base.real_imag_covariance_plot([[data_diff_m1_m2, args_diff_m1_m2]])"
   ]
  }
 ],
 "metadata": {
  "kernelspec": {
   "display_name": "time_gating_s_param",
   "language": "python",
   "name": "python3"
  },
  "language_info": {
   "codemirror_mode": {
    "name": "ipython",
    "version": 3
   },
   "file_extension": ".py",
   "mimetype": "text/x-python",
   "name": "python",
   "nbconvert_exporter": "python",
   "pygments_lexer": "ipython3",
   "version": "3.11.9"
  }
 },
 "nbformat": 4,
 "nbformat_minor": 2
}
