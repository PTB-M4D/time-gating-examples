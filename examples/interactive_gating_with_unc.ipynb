{
 "cells": [
  {
   "attachments": {},
   "cell_type": "markdown",
   "metadata": {},
   "source": [
    "# Interactive time-gating"
   ]
  },
  {
   "attachments": {},
   "cell_type": "markdown",
   "metadata": {},
   "source": [
    "## Preliminaries"
   ]
  },
  {
   "attachments": {},
   "cell_type": "markdown",
   "metadata": {},
   "source": [
    "### Imports"
   ]
  },
  {
   "cell_type": "code",
   "execution_count": null,
   "metadata": {},
   "outputs": [],
   "source": [
    "%matplotlib notebook\n",
    "#%matplotlib inline\n",
    "import matplotlib.pyplot as plt\n",
    "from matplotlib import colors\n",
    "from ipywidgets import interact, interactive, IntSlider, IntText, Dropdown, fixed, FloatSlider\n",
    "\n",
    "import numpy as np\n",
    "import pandas\n",
    "from scipy.ndimage import convolve1d\n",
    "from scipy import signal, special\n",
    "\n",
    "from PyDynamic.uncertainty.propagate_DFT import GUM_iDFT, GUM_DFT, DFT2AmpPhase, AmpPhase2DFT\n",
    "from PyDynamic.misc import complex_2_real_imag as c2ri\n",
    "from PyDynamic.misc import real_imag_2_complex as ri2c"
   ]
  },
  {
   "attachments": {},
   "cell_type": "markdown",
   "metadata": {},
   "source": [
    "### Data Loading"
   ]
  },
  {
   "attachments": {},
   "cell_type": "markdown",
   "metadata": {},
   "source": [
    "#### Load Only Main Diagonal of Uncertainty Information"
   ]
  },
  {
   "cell_type": "code",
   "execution_count": null,
   "metadata": {},
   "outputs": [],
   "source": [
    "# load reflection data\n",
    "file_reflection = \"../data/Beatty Line s11 MagPhase data.xlsx\"\n",
    "df = pandas.read_excel(file_reflection, skiprows=2)\n",
    "\n",
    "# add missing 0Hz-frequency point and construct complex variables\n",
    "# phase for a 0Hz is assumed to be zero\n",
    "f_old = np.r_[0, df.iloc[:, 0]]  # GHz\n",
    "s11_mag_old = np.r_[df.iloc[0, 1], df.iloc[:, 1]]\n",
    "s11_mag_unc_old = np.r_[df.iloc[0, 2], df.iloc[:, 2]]\n",
    "s11_phase_old = np.r_[0, df.iloc[:, 3]] / 180 * np.pi\n",
    "s11_phase_unc_old = np.r_[0, df.iloc[:, 4]] / 180 * np.pi\n",
    "\n",
    "# translate into PyDynamic-internal Re/Im-representation\n",
    "#s11_UAP =  np.square(np.r_[s11_mag_unc, s11_phase_unc])\n",
    "#s11_ri, s11_ri_cov = AmpPhase2DFT(s11_mag, s11_phase, s11_UAP)\n"
   ]
  },
  {
   "attachments": {},
   "cell_type": "markdown",
   "metadata": {},
   "source": [
    "#### Get Full Statistical Covariance from Individual Experiments"
   ]
  },
  {
   "cell_type": "code",
   "execution_count": null,
   "metadata": {},
   "outputs": [],
   "source": [
    "file_reflection = \"../data/Beatty Line New Type-A Re Im Data.xlsx\"\n",
    "dfs = pandas.read_excel(file_reflection, skiprows=1, sheet_name=None)\n",
    "df0 = dfs[list(dfs.keys())[0]]\n",
    "\n",
    "f = np.r_[0, df0.iloc[:, 0]]  # GHz\n",
    "\n",
    "# load raw data from all individual experiments (separate sheets)\n",
    "s11_runs_raw = np.array([df.iloc[:, 1] + 1j * df.iloc[:, 2] for df in dfs.values()])\n",
    "\n",
    "# include new datapoint at 0Hz which is required for discrete Fourier transform\n",
    "s11_runs_0Hz = np.atleast_2d(np.absolute(s11_runs_raw[:,0])).T\n",
    "s11_runs = np.concatenate([s11_runs_0Hz, s11_runs_raw], axis=1)\n",
    "\n",
    "# convert data into PyDynamic-real-imag representation\n",
    "s11_ri_runs = c2ri(s11_runs)\n",
    "\n",
    "# get mean and covariance from enhanced raw data\n",
    "s11_ri = np.mean(s11_ri_runs, axis=0)\n",
    "s11_ri_cov = np.cov(s11_ri_runs, rowvar=False)\n",
    "\n",
    "# get magnitude-phase representation for representation purposes\n",
    "s11_mag, s11_phase, s11_UAP = DFT2AmpPhase(s11_ri, s11_ri_cov)\n",
    "s11_mag_unc = np.sqrt(np.diag(s11_UAP)[:len(s11_mag)])\n",
    "s11_phase_unc = np.sqrt(np.diag(s11_UAP)[len(s11_mag):])"
   ]
  },
  {
   "attachments": {},
   "cell_type": "markdown",
   "metadata": {},
   "source": [
    "#### Comparison of Statistical Uncertainty Component and Full Uncertainty Information"
   ]
  },
  {
   "cell_type": "code",
   "execution_count": null,
   "metadata": {},
   "outputs": [],
   "source": [
    "# visualize raw input\n",
    "fig_comp_raw, ax_comp_raw = plt.subplots(nrows=4, figsize=(8, 8), tight_layout=True)\n",
    "ax_comp_raw[0].plot(f, s11_mag, label=\"statistical cov.\", color=\"tab:gray\", linewidth=4)\n",
    "ax_comp_raw[0].plot(f_old, s11_mag_old, label=\"given values\", color=\"tab:red\")\n",
    "\n",
    "ax_comp_raw[1].semilogy(f, s11_mag_unc, label=\"statistical cov.\", color=\"tab:gray\", linewidth=4)\n",
    "ax_comp_raw[1].semilogy(f_old, s11_mag_unc_old, label=\"given values\", color=\"tab:red\")\n",
    "\n",
    "ax_comp_raw[2].plot(f, np.rad2deg(s11_phase), label=\"statistical cov.\", color=\"tab:gray\", linewidth=4)\n",
    "ax_comp_raw[2].plot(f_old, np.rad2deg(s11_phase_old), label=\"given values\", color=\"tab:red\")\n",
    "\n",
    "ax_comp_raw[3].semilogy(f, np.rad2deg(s11_phase_unc), label=\"statistical cov.\", color=\"tab:gray\", linewidth=4)\n",
    "ax_comp_raw[3].semilogy(f_old, np.rad2deg(s11_phase_unc_old), label=\"given values\", color=\"tab:red\")\n",
    "\n",
    "ax_comp_raw[0].legend()\n",
    "ax_comp_raw[0].set_title(\"Frequency Domain\")\n",
    "ax_comp_raw[0].set_ylabel(\"magnitude [-]\")\n",
    "ax_comp_raw[1].set_ylabel(\"magnitude unc [-]\")\n",
    "ax_comp_raw[2].set_ylabel(\"phase [°]\")\n",
    "ax_comp_raw[3].set_ylabel(\"phase unc [°]\")\n",
    "ax_comp_raw[3].set_xlabel(\"f [GHz]\")"
   ]
  },
  {
   "cell_type": "code",
   "execution_count": null,
   "metadata": {},
   "outputs": [],
   "source": [
    "#plt.plot(np.rad2deg(s11_phase) - np.rad2deg(s11_phase_old))\n",
    "#plt.plot(s11_mag - s11_mag_old)"
   ]
  },
  {
   "attachments": {},
   "cell_type": "markdown",
   "metadata": {},
   "source": [
    "### Visualize Input Data"
   ]
  },
  {
   "attachments": {},
   "cell_type": "markdown",
   "metadata": {},
   "source": [
    "#### Raw Mag/Phase Frequency Domain Data"
   ]
  },
  {
   "cell_type": "code",
   "execution_count": null,
   "metadata": {
    "scrolled": false
   },
   "outputs": [],
   "source": [
    "# visualize raw input\n",
    "fig_in, ax_in = plt.subplots(nrows=4, figsize=(8, 8), tight_layout=True)\n",
    "ax_in[0].plot(f, s11_mag, label=\"s11\", color=\"tab:gray\")\n",
    "ax_in[1].plot(f, s11_mag_unc, label=\"s11\", color=\"tab:gray\")\n",
    "ax_in[2].plot(f, np.rad2deg(s11_phase), label=\"s11\", color=\"tab:gray\")\n",
    "ax_in[3].plot(f, np.rad2deg(s11_phase_unc), label=\"s11\", color=\"tab:gray\")\n",
    "\n",
    "ax_in[0].legend()\n",
    "ax_in[0].set_title(\"Frequency Domain\")\n",
    "ax_in[0].set_ylabel(\"magnitude [-]\")\n",
    "ax_in[1].set_ylabel(\"magnitude unc [-]\")\n",
    "ax_in[2].set_ylabel(\"phase [°]\")\n",
    "ax_in[3].set_ylabel(\"phase unc [°]\")\n",
    "ax_in[3].set_xlabel(\"f [GHz]\")"
   ]
  },
  {
   "attachments": {},
   "cell_type": "markdown",
   "metadata": {},
   "source": [
    "#### Transformation into Time Domain (Application of Inverse DFT)"
   ]
  },
  {
   "cell_type": "code",
   "execution_count": null,
   "metadata": {
    "scrolled": false
   },
   "outputs": [],
   "source": [
    "# convert reflection data to time domain \n",
    "Nx = 2*len(s11_mag) - 1\n",
    "S11, S11_cov = GUM_iDFT(s11_ri, s11_ri_cov, Nx=Nx)\n",
    "\n",
    "# provide timestamps\n",
    "# same as: dt = 0.5/np.max(f); t = np.arange(0, stop = 1/np.median(np.diff(f)) + dt, step = dt)\n",
    "t = np.linspace(0.0, 1/np.median(np.diff(f)), num=Nx)"
   ]
  },
  {
   "cell_type": "code",
   "execution_count": null,
   "metadata": {},
   "outputs": [],
   "source": [
    "# visualize time domain data\n",
    "fig_in_td, ax_in_td = plt.subplots(nrows=3, figsize=(8, 10), tight_layout=True, sharex=False, gridspec_kw={'height_ratios':(1,1,2)})\n",
    "maxi = np.max(np.abs(S11_cov))\n",
    "cnorm = colors.SymLogNorm(vmin=-maxi, vmax=maxi, linthresh=1e-14)\n",
    "\n",
    "ax_in_td[0].get_shared_x_axes().join(ax_in_td[0], ax_in_td[1])\n",
    "ax_in_td[0].plot(t, S11, label=\"signal\", color=\"tab:gray\")\n",
    "ax_in_td[1].semilogy(t, np.sqrt(np.diag(S11_cov)), label=\"signal unc\", color=\"tab:gray\")\n",
    "img0 = ax_in_td[2].imshow(S11_cov,  cmap=\"PuOr\", norm=cnorm)\n",
    "\n",
    "fig_in_td.colorbar(img0, ax=ax_in_td[2])\n",
    "ax_in_td[0].legend()\n",
    "ax_in_td[0].set_title(\"Time Domain\")\n",
    "ax_in_td[0].set_ylabel(\"signal [-]\")\n",
    "ax_in_td[1].set_ylabel(\"signal unc [-]\")\n",
    "ax_in_td[1].set_xlabel(\"t [ns]\")\n",
    "ax_in_td[2].set_title(\"Covariance of time signal\")\n",
    "\n",
    "ax_in_td[0].set_ylim(-0.25, 0.25)\n",
    "#ax_in_td[1].set_ylim(8e-5, 10e-5)\n",
    "\n",
    "# add inset value-plot\n",
    "ax_in_td_0_inset = ax_in_td[0].inset_axes([0.25, 0.65, 0.30, 0.30])\n",
    "ax_in_td_0_inset.plot(t, S11, color=\"tab:gray\")\n",
    "ax_in_td_0_inset.set_xlim(0.0, 0.8)\n",
    "ax_in_td[0].indicate_inset_zoom(ax_in_td_0_inset, edgecolor=\"red\")\n",
    "\n",
    "# add inset unc-plot\n",
    "ax_in_td_1_inset = ax_in_td[1].inset_axes([0.55, 0.65, 0.30, 0.30])\n",
    "ax_in_td_1_inset.plot(t, np.sqrt(np.diag(S11_cov)), color=\"tab:gray\")\n",
    "ax_in_td_1_inset.set_xlim(0.0, 0.8)\n",
    "ax_in_td_1_inset.set_ylim(1.0e-5, 6.0e-4)\n",
    "ax_in_td_1_inset.set_yscale(\"log\")\n",
    "ax_in_td[1].indicate_inset_zoom(ax_in_td_1_inset, edgecolor=\"red\")"
   ]
  },
  {
   "cell_type": "code",
   "execution_count": null,
   "metadata": {},
   "outputs": [],
   "source": [
    "# visualize time domain magnitude data\n",
    "fig_in_td2, ax_in_td2 = plt.subplots(nrows=1, figsize=(8, 6), tight_layout=True)\n",
    "\n",
    "ax_in_td2.plot(t, np.abs(S11), label=\"signal magnitude\", color=\"tab:gray\")\n",
    "\n",
    "ax_in_td2.set_xlim(0.0, 0.8)\n",
    "ax_in_td2.legend()\n",
    "ax_in_td2.set_title(\"Time Domain\")\n",
    "ax_in_td2.set_ylabel(\"signal magnitude [-]\")\n",
    "ax_in_td2.set_xlabel(\"t [ns]\")"
   ]
  },
  {
   "attachments": {},
   "cell_type": "markdown",
   "metadata": {},
   "source": [
    "#### Check that Chaining iDFT + DFT Results in the Original Data\n",
    "\n",
    "This shows that the low uncertainties in the time domain are just a consequence of \n",
    "the (inverse) Fourier transformation. "
   ]
  },
  {
   "cell_type": "code",
   "execution_count": null,
   "metadata": {},
   "outputs": [],
   "source": [
    "s11_ri_idtest, s11_ri_cov_idtest = GUM_DFT(S11, S11_cov)\n",
    "\n",
    "print(\"(Numerical) identity is achieved for the real-imag-representation:\")\n",
    "print(\"real/imag representation identity: \", np.allclose(s11_ri_idtest, s11_ri))\n",
    "print(\"Covariance identity:               \", np.allclose(s11_ri_cov_idtest, s11_ri_cov))\n",
    "\n",
    "\n",
    "s11_mag_idtest, s11_phase_idtest, s11_UAP_idtest = DFT2AmpPhase(s11_ri_idtest, s11_ri_cov_idtest, tol=1e-15)\n",
    "s11_mag_unc_idtest = np.sqrt(np.diag(s11_UAP_idtest)[:len(s11_mag_idtest)])\n",
    "s11_phase_unc_idtest = np.sqrt(np.diag(s11_UAP_idtest)[len(s11_mag_idtest):])\n",
    "\n",
    "print(\"\\n\\n(Numerical) identity is achieved for the mag-phase-representation: (except some elements with a mag/phase ratio close to zero)\")\n",
    "print(\"magnitude identity:     \", np.allclose(s11_mag_idtest, s11_mag))\n",
    "print(\"magnitude unc identity: \", np.allclose(s11_mag_unc_idtest, s11_mag_unc))\n",
    "print(\"phase identity:         \", np.allclose(s11_phase_idtest, s11_phase))\n",
    "print(\"phase unc identity:     \", np.allclose(s11_phase_unc_idtest, s11_phase_unc))"
   ]
  },
  {
   "attachments": {},
   "cell_type": "markdown",
   "metadata": {},
   "source": [
    "## Define the Time-Gate"
   ]
  },
  {
   "attachments": {},
   "cell_type": "markdown",
   "metadata": {},
   "source": [
    "### Useful Functions and Initializations"
   ]
  },
  {
   "cell_type": "code",
   "execution_count": null,
   "metadata": {},
   "outputs": [],
   "source": [
    "def window(kind = \"kaiser\", order = 6, width = 100):\n",
    "    return signal.get_window((kind, order), width, fftbins=False)\n",
    "\n",
    "def gate(window, window_start, total_length):\n",
    "    if window_start +  len(window) > total_length or window_start < 0:\n",
    "        raise ValueError(\"Cannot place window.\")\n",
    "\n",
    "    pad_pre = int(window_start)\n",
    "    pad_post = int(total_length - len(window) - pad_pre)\n",
    "    gate = np.r_[np.zeros(pad_pre), window, np.zeros(pad_post)]\n",
    "    \n",
    "    # heuristic model for gate unc, probably too complicated :-)\n",
    "    gate_unc = 0.0 * 1e-5*np.abs(signal.filtfilt(*signal.butter(1, 0.30, \"lowpass\"), np.abs(np.diff(np.r_[gate, 0])), padlen=100)) \n",
    "\n",
    "    return gate, gate_unc\n",
    "\n",
    "# setup of window/gate (would need some heuristic)\n",
    "window_kind = \"kaiser\"\n",
    "window_order = 0\n",
    "window_width = 400\n",
    "\n",
    "initial_window = window(window_kind, window_order, window_width)\n",
    "initial_gate, initial_gate_unc = gate(initial_window, 100, len(t))\n"
   ]
  },
  {
   "attachments": {},
   "cell_type": "markdown",
   "metadata": {},
   "source": [
    "### Position the Gate"
   ]
  },
  {
   "attachments": {},
   "cell_type": "markdown",
   "metadata": {},
   "source": [
    "#### Interactive Positioning"
   ]
  },
  {
   "cell_type": "code",
   "execution_count": null,
   "metadata": {},
   "outputs": [],
   "source": [
    "fig_gate, ax_gate = plt.subplots(nrows=2, figsize=(8, 8), tight_layout=True, sharex=True)\n",
    "\n",
    "# setup secondary y-axis\n",
    "ax2_gate = [None, None]\n",
    "ax2_gate[0] = ax_gate[0].twinx()\n",
    "ax2_gate[1] = ax_gate[1].twinx()\n",
    "\n",
    "# plot signal and gate\n",
    "line_signal, = ax_gate[0].plot(t, S11, label=\"signal\", color=\"tab:gray\")\n",
    "line_gate, = ax2_gate[0].plot(t, initial_gate, label=\"gate\", color=\"r\")\n",
    "\n",
    "# plot uncertainty of signal and gate\n",
    "ax_gate[1].plot(t, np.sqrt(np.diag(S11_cov)), label=\"signal unc\", color=\"tab:gray\")\n",
    "line_gate_unc, = ax2_gate[1].plot(t, initial_gate_unc, label=\"gate unc\", color=\"r\")\n",
    "\n",
    "# decorate\n",
    "ax_gate[0].legend()\n",
    "#ax_gate[1].set_ylim(8e-5, 10e-5)\n",
    "\n",
    "ax_gate[0].set_ylabel(\"signal [-]\")\n",
    "ax2_gate[0].set_ylabel(\"gate [-]\")\n",
    "ax_gate[1].set_xlabel(\"t [ns]\")\n",
    "\n",
    "ax_gate[0].yaxis.get_label().set_color(line_signal.get_color())\n",
    "ax2_gate[0].yaxis.get_label().set_color(line_gate.get_color())\n",
    "\n",
    "def update(window_start, window_width, window_order):\n",
    "    \n",
    "    w = window(window_kind, window_order, window_width)\n",
    "    g, ug = gate(w, window_start, len(t))\n",
    "\n",
    "    line_gate.set_ydata(g)\n",
    "    line_gate_unc.set_ydata(ug)\n",
    "    fig_gate.canvas.draw_idle()\n",
    "\n",
    "    return g, ug\n",
    "    \n",
    "\n",
    "gate_selector = interactive(\n",
    "    update, \n",
    "    window_start = IntSlider(value=16, min=0, max=len(t)-window_width, step=1, description=\"window start: \"), \n",
    "    window_width = IntSlider(value=25, min=1, max=len(t)//8, step=1, description=\"window width: \"), \n",
    "    window_order = FloatSlider(value=4.6, min=0.0, max=10.0, step=0.2, description=\"window beta: \")\n",
    ")\n",
    "\n",
    "display(gate_selector)\n",
    "gate_selector.children"
   ]
  },
  {
   "cell_type": "code",
   "execution_count": null,
   "metadata": {
    "scrolled": false
   },
   "outputs": [],
   "source": [
    "gate_array, gate_unc_array = gate_selector.result\n",
    "gate_array"
   ]
  },
  {
   "attachments": {},
   "cell_type": "markdown",
   "metadata": {},
   "source": [
    "#### Non-Interactive Positioning"
   ]
  },
  {
   "cell_type": "code",
   "execution_count": null,
   "metadata": {},
   "outputs": [],
   "source": [
    "window_kind = \"kaiser\"\n",
    "window_order = 0.0  # 0 -> rect, +\\infty -> gaussian\n",
    "window_width = 11\n",
    "window_start = 2\n",
    "\n",
    "w = window(window_kind, window_order, window_width)\n",
    "gate_array, gate_unc_array = gate(w, window_start, len(t))\n",
    "gate_cov_array = np.diag(np.square(gate_unc_array))"
   ]
  },
  {
   "cell_type": "code",
   "execution_count": null,
   "metadata": {},
   "outputs": [],
   "source": [
    "fig_gate, ax_gate = plt.subplots(nrows=2, figsize=(8, 8), tight_layout=True, sharex=True)\n",
    "\n",
    "# setup secondary y-axis\n",
    "ax2_gate = [None, None]\n",
    "ax2_gate[0] = ax_gate[0].twinx()\n",
    "ax2_gate[1] = ax_gate[1].twinx()\n",
    "\n",
    "# plot signal and gate\n",
    "ax_gate[0].plot(t, S11, label=\"signal\", color=\"tab:gray\")\n",
    "ax2_gate[0].plot(t, gate_array, label=\"gate\", color=\"r\")\n",
    "\n",
    "# plot uncertainty of signal and gate\n",
    "ax_gate[1].plot(t, np.sqrt(np.diag(S11_cov)), label=\"signal unc\", color=\"tab:gray\")\n",
    "ax2_gate[1].plot(t, gate_unc_array, label=\"gate unc\", color=\"r\")\n",
    "\n",
    "# decorate\n",
    "ax_gate[0].set_title(\"Time Domain (zoomed)\")\n",
    "ax_gate[0].legend(loc=\"upper right\")\n",
    "ax2_gate[0].legend(loc=\"upper center\")\n",
    "ax_gate[0].set_xlim((-0.1,1.5))\n",
    "ax2_gate[1].set_ylim(ax_gate[1].get_ylim())\n",
    "\n",
    "ax_gate[0].set_ylabel(\"signal [-]\")\n",
    "ax2_gate[0].set_ylabel(\"gate [-]\")\n",
    "ax_gate[1].set_ylabel(\"signal unc [-]\")\n",
    "ax2_gate[1].set_ylabel(\"gate unc [-]\")\n",
    "ax_gate[1].set_xlabel(\"t [ns]\")\n",
    "\n",
    "ax_gate[0].yaxis.get_label().set_color(line_signal.get_color())\n",
    "ax2_gate[0].yaxis.get_label().set_color(line_gate.get_color())\n",
    "ax_gate[1].yaxis.get_label().set_color(line_signal.get_color())\n",
    "ax2_gate[1].yaxis.get_label().set_color(line_gate.get_color())"
   ]
  },
  {
   "attachments": {},
   "cell_type": "markdown",
   "metadata": {},
   "source": [
    "## Apply the Time-Gate"
   ]
  },
  {
   "attachments": {},
   "cell_type": "markdown",
   "metadata": {},
   "source": [
    "### Method 1 (multiplication and then DFT)\n",
    "Applies the gate already in the time-domain and converts the result back to frequency domain. "
   ]
  },
  {
   "cell_type": "code",
   "execution_count": null,
   "metadata": {},
   "outputs": [],
   "source": [
    "# main calls\n",
    "S11_gated = S11 * gate_array\n",
    "S11_gated_cov = np.diag(gate_array) @ S11_cov @ np.diag(gate_array).T + np.diag(S11) @ gate_cov_array @ np.diag(S11).T\n",
    "s11_gated_ri, s11_gated_ri_cov = GUM_DFT(S11_gated, S11_gated_cov)"
   ]
  },
  {
   "attachments": {},
   "cell_type": "markdown",
   "metadata": {},
   "source": [
    "#### Visualize Time Gated s11-Parameter"
   ]
  },
  {
   "cell_type": "code",
   "execution_count": null,
   "metadata": {},
   "outputs": [],
   "source": [
    "# visualize result amp/phase\n",
    "NN=len(s11_gated_ri)//2\n",
    "\n",
    "# convert back to amplitude/phase representation\n",
    "s11_gated_A, s11_gated_P, s11_gated_UAP = DFT2AmpPhase(s11_gated_ri, s11_gated_ri_cov)\n",
    "s11_gated_UA = np.sqrt(np.diag(s11_gated_UAP)[:NN])\n",
    "s11_gated_UP = np.sqrt(np.diag(s11_gated_UAP)[NN:])\n",
    "\n",
    "fig_in, ax_in = plt.subplots(nrows=4, figsize=(8, 8), tight_layout=True)\n",
    "ax_in[0].plot(f, s11_gated_A, label=\"s11 gated\", color=\"tab:blue\")\n",
    "ax_in[1].plot(f, s11_gated_UA, label=\"s11 gated\", color=\"tab:blue\")\n",
    "ax_in[2].plot(f, np.rad2deg(s11_gated_P), label=\"s11 gated\", color=\"tab:blue\")\n",
    "ax_in[3].plot(f, np.rad2deg(s11_gated_UP), label=\"s11 gated\", color=\"tab:blue\")\n",
    "\n",
    "ax_in[0].legend()\n",
    "ax_in[0].grid(which=\"both\", axis=\"both\")\n",
    "ax_in[0].set_title(\"Frequency Domain\")\n",
    "ax_in[0].set_ylabel(\"magnitude [-]\")\n",
    "ax_in[1].set_ylabel(\"magnitude unc [-]\")\n",
    "ax_in[2].set_ylabel(\"phase [°]\")\n",
    "ax_in[3].set_ylabel(\"phase unc [°]\")\n",
    "ax_in[3].set_xlabel(\"f [GHz]\")\n"
   ]
  },
  {
   "attachments": {},
   "cell_type": "markdown",
   "metadata": {},
   "source": [
    "### Method 2 (DFT and then complex convolution)\n",
    "\n",
    "Transforms gate into frequency domain and applies gate to the original (frequency domain) signal by using convolution operation. Output should match first method up to numerical precision. (Done with uncertainty evaluation by Monte Carlo, analytical uncertainty evaluation out of scope for now.)"
   ]
  },
  {
   "cell_type": "code",
   "execution_count": null,
   "metadata": {},
   "outputs": [],
   "source": [
    "def make_twosided(x):\n",
    "    # returns the twosided spectrum with f=0 at the start (default numpy style)\n",
    "    # x = x_re + 1j * x_im \n",
    "    x_twosided = np.r_[x, np.conjugate(x[1:][::-1])]  # odd signal length\n",
    "    #x_twosided = np.r_[x, np.conjugate(x[::-1])]  # even signal length (default assumption for rfft)\n",
    "    return x_twosided\n",
    "\n",
    "def make_onesided(x):\n",
    "    # returns the twosided spectrum with f=0 at the start (default numpy style)\n",
    "    # x = x_re + 1j * x_im, (size = 2*N - 1)\n",
    "    N = (x.size + 1) // 2   # odd signal length\n",
    "    #N = x.size // 2   # even signal length\n",
    "    x_onesided = x[:N]\n",
    "    return x_onesided\n",
    "\n",
    "def complex_convolution_of_two_half_spectra(X, Y):\n",
    "    # complex valued X, Y\n",
    "\n",
    "    # transform into full spectra\n",
    "    XX = make_twosided(X)\n",
    "    YY = make_twosided(Y)\n",
    "\n",
    "    # otherwise not strict ascending order (numpy default has f=0 at index 0, not in the middle)\n",
    "    XX = np.fft.fftshift(XX) \n",
    "    YY = np.fft.fftshift(YY)\n",
    "\n",
    "    # actual convolution\n",
    "    RR = convolve1d(XX, YY, mode=\"wrap\") / XX.size\n",
    "\n",
    "    # undo shifting and make half spectrum\n",
    "    R = make_onesided(np.fft.ifftshift(RR))\n",
    "\n",
    "    return R"
   ]
  },
  {
   "cell_type": "code",
   "execution_count": null,
   "metadata": {},
   "outputs": [],
   "source": [
    "# main calls\n",
    "#gate_spectrum = np.fft.rfft(gate_array)\n",
    "#s11_gated_conv = complex_convolution_of_two_half_spectra(ri2c(s11_ri), gate_spectrum)\n",
    "\n",
    "# Monte Carlo of this main call\n",
    "\n",
    "# draw gate and signal\n",
    "def draw_samples(size, x1, x1_cov, x2, x2_cov):\n",
    "    SAMPLES_X1 = np.random.multivariate_normal(x1, x1_cov, size)\n",
    "    SAMPLES_X2 = np.random.multivariate_normal(x2, x2_cov, size)\n",
    "    return (SAMPLES_X1, SAMPLES_X2)\n",
    "\n",
    "# evaluate\n",
    "n_runs = 1000\n",
    "results = []\n",
    "for s11_ri_mc, gate_array_mc in zip(*draw_samples(size=n_runs, x1=s11_ri, x1_cov=s11_ri_cov, x2=gate_array, x2_cov=gate_cov_array)):\n",
    "    # main call\n",
    "    gate_spectrum_tmp = np.fft.rfft(gate_array_mc)\n",
    "    s11_gated_conv_tmp = complex_convolution_of_two_half_spectra(ri2c(s11_ri_mc), gate_spectrum_tmp)\n",
    "    \n",
    "    # save result\n",
    "    results.append(c2ri(s11_gated_conv_tmp))\n",
    "\n",
    "# extract mean and covariance\n",
    "s11_gated_mcconv_ri = np.mean(results, axis=0)\n",
    "s11_gated_mcconv_ri_cov = np.cov(results, rowvar=False)\n",
    "s11_gated_mcconv = ri2c(s11_gated_mcconv_ri)"
   ]
  },
  {
   "attachments": {},
   "cell_type": "markdown",
   "metadata": {},
   "source": [
    "#### Visualize Time Gated s11-Parameter"
   ]
  },
  {
   "cell_type": "code",
   "execution_count": null,
   "metadata": {},
   "outputs": [],
   "source": [
    "# visualize result amp/phase\n",
    "NN=len(s11_gated_mcconv_ri)//2\n",
    "\n",
    "# convert back to amplitude/phase representation\n",
    "s11_gated_mcconv_A, s11_gated_mcconv_P, s11_gated_mcconv_UAP = DFT2AmpPhase(s11_gated_mcconv_ri, s11_gated_mcconv_ri_cov)\n",
    "s11_gated_mcconv_UA = np.sqrt(np.diag(s11_gated_mcconv_UAP)[:NN])\n",
    "s11_gated_mcconv_UP = np.sqrt(np.diag(s11_gated_mcconv_UAP)[NN:])\n",
    "\n",
    "fig_in, ax_in = plt.subplots(nrows=4, figsize=(8, 8), tight_layout=True)\n",
    "ax_in[0].plot(f, s11_gated_mcconv_A, label=\"s11 gated\", color=\"tab:orange\")\n",
    "ax_in[1].plot(f, s11_gated_mcconv_UA, label=\"s11 gated\", color=\"tab:orange\")\n",
    "ax_in[2].plot(f, np.rad2deg(s11_gated_mcconv_P), label=\"s11 gated\", color=\"tab:orange\")\n",
    "ax_in[3].plot(f, np.rad2deg(s11_gated_mcconv_UP), label=\"s11 gated\", color=\"tab:orange\")\n",
    "\n",
    "ax_in[0].legend()\n",
    "ax_in[0].grid(which=\"both\", axis=\"both\")\n",
    "ax_in[0].set_title(\"Frequency Domain\")\n",
    "ax_in[0].set_ylabel(\"magnitude [-]\")\n",
    "ax_in[1].set_ylabel(\"magnitude unc [-]\")\n",
    "ax_in[2].set_ylabel(\"phase [°]\")\n",
    "ax_in[3].set_ylabel(\"phase unc [°]\")\n",
    "ax_in[3].set_xlabel(\"f [GHz]\")"
   ]
  },
  {
   "attachments": {},
   "cell_type": "markdown",
   "metadata": {},
   "source": [
    "## Comparison"
   ]
  },
  {
   "attachments": {},
   "cell_type": "markdown",
   "metadata": {},
   "source": [
    "### Original and Time-Gated Spectra of both methods"
   ]
  },
  {
   "cell_type": "code",
   "execution_count": null,
   "metadata": {},
   "outputs": [],
   "source": [
    "fig_in, ax_in = plt.subplots(nrows=4, figsize=(8, 10), tight_layout=True)\n",
    "\n",
    "ax_in[0].plot(f, s11_mag, label=\"s11 orig\", color=\"tab:gray\")\n",
    "ax_in[0].plot(f, s11_gated_A, label=\"s11 gated\", color=\"tab:blue\", linewidth=5)\n",
    "ax_in[0].plot(f, np.abs(s11_gated_mcconv), label=\"s11 gated (MC conv)\", color=\"tab:orange\")\n",
    "\n",
    "ax_in[1].plot(f, s11_mag_unc, label=\"s11 orig unc\", color=\"tab:gray\")\n",
    "ax_in[1].plot(f, s11_gated_UA, label=\"s11 gated\", color=\"tab:blue\", linewidth=5)\n",
    "ax_in[1].plot(f, s11_gated_mcconv_UA, label=\"s11 gated (MC conv)\", color=\"tab:orange\")\n",
    "\n",
    "ax_in[2].plot(f, np.rad2deg(s11_phase), label=\"s11 orig\", color=\"tab:gray\")\n",
    "ax_in[2].plot(f, np.rad2deg(s11_gated_P), label=\"s11 gated\", color=\"tab:blue\", linewidth=5)\n",
    "ax_in[2].plot(f, np.rad2deg(np.angle(s11_gated_mcconv)), label=\"s11 gated (MC conv)\", color=\"tab:orange\")\n",
    "\n",
    "ax_in[3].plot(f, np.rad2deg(s11_phase_unc), label=\"s11 orig unc\", color=\"tab:gray\")\n",
    "ax_in[3].plot(f, np.rad2deg(s11_gated_UP), label=\"s11 gated\", color=\"tab:blue\", linewidth=5)\n",
    "ax_in[3].plot(f, np.rad2deg(s11_gated_mcconv_UP), label=\"s11 gated (MC conv)\", color=\"tab:orange\")\n",
    "\n",
    "\n",
    "ax_in[0].legend()\n",
    "ax_in[1].legend()\n",
    "ax_in[2].legend()\n",
    "ax_in[3].legend()\n",
    "ax_in[0].set_title(\"Frequency Domain\")\n",
    "ax_in[0].set_ylabel(\"magnitude [-]\")\n",
    "ax_in[1].set_ylabel(\"magnitude unc [-]\")\n",
    "ax_in[2].set_ylabel(\"phase [°]\")\n",
    "ax_in[3].set_ylabel(\"phase unc [°]\")\n",
    "ax_in[3].set_xlabel(\"f [GHz]\")\n",
    "ax_in[1].set_yscale(\"log\")\n",
    "ax_in[3].set_yscale(\"log\")\n",
    "ax_in[3].set_ylim(1e-3, 1.5e1)"
   ]
  },
  {
   "attachments": {},
   "cell_type": "markdown",
   "metadata": {},
   "source": [
    "### Covariance Matrices\n",
    "\n",
    "Covariances in Re/Im Representation of:\n",
    "\n",
    "- input data\n",
    "- output of method 1 (analytical uncertainty evaluation)\n",
    "- output of method 2 (Monte Carlo uncertainty evaluation)"
   ]
  },
  {
   "cell_type": "code",
   "execution_count": null,
   "metadata": {},
   "outputs": [],
   "source": [
    "# utility function for annotating plots\n",
    "def annotate_real_imag_plot(ax, annotate_x=True, annotate_y=True):\n",
    "    # define new tick positions\n",
    "    labels_re = [0, 10, 20, 30]  # GHz\n",
    "    labels_re = [0, 8, 16, 24]  # GHz\n",
    "    labels_im = labels_re\n",
    "    labels = labels_re + labels_im\n",
    "\n",
    "    # define new labels for these positions\n",
    "    ticks_re = [np.flatnonzero(f == l).item() for l in labels_re]\n",
    "    ticks_im = [f.size + 1 + k for k in ticks_re]\n",
    "    ticks = ticks_re + ticks_im\n",
    "\n",
    "    # define colors for the labels to distinguish real and imag parts\n",
    "    colors_re = [\"k\"] * len(ticks_re)\n",
    "    colors_im = [\"r\"] * len(ticks_im)\n",
    "    tick_colors = colors_re + colors_im\n",
    "\n",
    "    if annotate_x:\n",
    "        # xticks (label, position, color)\n",
    "        ax.set_xticks(ticks=ticks, labels=labels)\n",
    "        for ticklabel, c in zip(ax.get_xticklabels(), tick_colors):\n",
    "            ticklabel.set_color(c)\n",
    "\n",
    "        # axis label\n",
    "        ax.set_xlabel(\"frequency [GHz]\")\n",
    "\n",
    "        # nice brace real part\n",
    "        ax.annotate(\n",
    "            \"real\",\n",
    "            xy=(0.25, -0.01),\n",
    "            xytext=(0.25, -0.10),\n",
    "            fontsize=14,\n",
    "            ha=\"center\",\n",
    "            va=\"bottom\",\n",
    "            xycoords=\"axes fraction\",\n",
    "            color=\"black\",\n",
    "            #arrowprops=dict(arrowstyle=\"-[, widthB=6.0, lengthB=.5\"),\n",
    "        )\n",
    "\n",
    "        # nice brace imag part\n",
    "        ax.annotate(\n",
    "            \"imag\",\n",
    "            xy=(0.75, -0.01),\n",
    "            xytext=(0.75, -0.10),\n",
    "            fontsize=14,\n",
    "            ha=\"center\",\n",
    "            va=\"bottom\",\n",
    "            xycoords=\"axes fraction\",\n",
    "            color=\"red\",\n",
    "            #arrowprops=dict(arrowstyle=\"-[, widthB=6.0, lengthB=.5\"),\n",
    "        )\n",
    "\n",
    "    if annotate_y:\n",
    "        # yticks (label, position, color)\n",
    "        ax.set_yticks(ticks=ticks, labels=labels)\n",
    "        for ticklabel, c in zip(ax.get_yticklabels(), tick_colors):\n",
    "            ticklabel.set_color(c)\n",
    "\n",
    "        # axis label\n",
    "        ax.set_ylabel(\"frequency [GHz]\")\n",
    "\n",
    "        # nice brace real part\n",
    "        ax.annotate(\n",
    "            \"real\",\n",
    "            xy=(-0.01, 0.75),\n",
    "            xytext=(-0.10, 0.75),\n",
    "            fontsize=14,\n",
    "            ha=\"left\",\n",
    "            va=\"center\",\n",
    "            xycoords=\"axes fraction\",\n",
    "            rotation=90,\n",
    "            color=\"black\",\n",
    "            #arrowprops=dict(arrowstyle=\"-[, widthB=6.0, lengthB=.5\"),\n",
    "        )\n",
    "\n",
    "        # nice brace imag part\n",
    "        ax.annotate(\n",
    "            \"imag\",\n",
    "            xy=(-0.01, 0.25),\n",
    "            xytext=(-0.10, 0.25),\n",
    "            fontsize=14,\n",
    "            ha=\"left\",\n",
    "            va=\"center\",\n",
    "            xycoords=\"axes fraction\",\n",
    "            rotation=90,\n",
    "            color=\"red\",\n",
    "            #arrowprops=dict(arrowstyle=\"-[, widthB=6.0, lengthB=.5\"),\n",
    "        )\n",
    "\n",
    "    return ax\n"
   ]
  },
  {
   "cell_type": "code",
   "execution_count": null,
   "metadata": {},
   "outputs": [],
   "source": [
    "fig_cov, ax_cov = plt.subplots(nrows=3, figsize=(8, 25), tight_layout=True)\n",
    "mini = max(1e-11, min(np.abs(s11_ri_cov).min(), np.abs(s11_gated_ri_cov).min()))\n",
    "maxi = min(np.abs(s11_ri_cov).max(), np.abs(s11_gated_ri_cov).max())\n",
    "\n",
    "cnorm = colors.SymLogNorm(vmin=-maxi, vmax=maxi, linthresh=mini)\n",
    "img1 = ax_cov[0].imshow(s11_ri_cov, cmap=\"PuOr\", norm=cnorm)\n",
    "img2 = ax_cov[1].imshow(s11_gated_ri_cov, cmap=\"PuOr\", norm=cnorm)\n",
    "img3 = ax_cov[2].imshow(s11_gated_mcconv_ri_cov, cmap=\"PuOr\", norm=cnorm)\n",
    "fig_cov.colorbar(img1, ax=ax_cov[0])\n",
    "fig_cov.colorbar(img2, ax=ax_cov[1])\n",
    "fig_cov.colorbar(img3, ax=ax_cov[2])\n",
    "\n",
    "ax_cov[0].set_title(\"Covariance of s11_ri\")\n",
    "ax_cov[0] = annotate_real_imag_plot(ax_cov[0])\n",
    "\n",
    "ax_cov[1].set_title(\"Covariance of s11_gated_ri\")\n",
    "ax_cov[1] = annotate_real_imag_plot(ax_cov[1])\n",
    "\n",
    "ax_cov[2].set_title(\"Covariance of s11_gated_mcconv_ri_cov\")\n",
    "ax_cov[2] = annotate_real_imag_plot(ax_cov[2])"
   ]
  },
  {
   "attachments": {},
   "cell_type": "markdown",
   "metadata": {},
   "source": [
    "#### Compare Gated Spectra and Covariance Matrices of analytical and Monte Carlo approach"
   ]
  },
  {
   "cell_type": "code",
   "execution_count": null,
   "metadata": {},
   "outputs": [],
   "source": [
    "# visual comparison of the two methods:\n",
    "fig_comp, ax_comp = plt.subplots(nrows=3, figsize=(8, 20), tight_layout=True)\n",
    "\n",
    "# mean signed difference of values\n",
    "ax_comp[0].plot(s11_gated_ri - s11_gated_mcconv_ri)\n",
    "ax_comp[0].set_title(\"Mean Signed Difference of Gated Spectra\")\n",
    "ax_comp[0] = annotate_real_imag_plot(ax_comp[0], annotate_y=False)\n",
    "\n",
    "# mean signed difference of covariance matrices\n",
    "img4 = ax_comp[1].imshow(s11_gated_ri_cov - s11_gated_mcconv_ri_cov, cmap=\"PuOr\", norm=cnorm)\n",
    "fig_comp.colorbar(img4, ax=ax_comp[1])\n",
    "\n",
    "ax_comp[1].set_title(\"Signed Difference of both Covariance Matrices\")\n",
    "ax_comp[1] = annotate_real_imag_plot(ax_comp[1])\n",
    "\n",
    "# Kullback-Leibler divergence of covariance matrices\n",
    "kl_div = special.kl_div(s11_gated_ri_cov, s11_gated_mcconv_ri_cov)\n",
    "cnorm_kl = colors.LogNorm(vmin=1e-12, vmax=1e-8, clip=True)\n",
    "\n",
    "img5 = ax_comp[2].imshow(kl_div, cmap=\"binary\", norm=cnorm_kl)\n",
    "fig_comp.colorbar(img5, ax=ax_comp[2])\n",
    "\n",
    "\n",
    "ax_comp[2].set_title(\"Kullback-Leibler divergence of both Covariance Matrices\")\n",
    "ax_comp[2] = annotate_real_imag_plot(ax_comp[2])"
   ]
  }
 ],
 "metadata": {
  "kernelspec": {
   "display_name": "Python 3 (ipykernel)",
   "language": "python",
   "name": "python3"
  },
  "language_info": {
   "codemirror_mode": {
    "name": "ipython",
    "version": 3
   },
   "file_extension": ".py",
   "mimetype": "text/x-python",
   "name": "python",
   "nbconvert_exporter": "python",
   "pygments_lexer": "ipython3",
   "version": "3.11.2"
  },
  "vscode": {
   "interpreter": {
    "hash": "2354e242048eb15e141e87006675072499dd67ed80a1dc68b094af9bf5b71536"
   }
  }
 },
 "nbformat": 4,
 "nbformat_minor": 2
}
